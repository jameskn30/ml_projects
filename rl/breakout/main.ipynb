{
 "cells": [
  {
   "cell_type": "markdown",
   "metadata": {},
   "source": [
    "# Installing env\n"
   ]
  },
  {
   "cell_type": "code",
   "execution_count": 2,
   "metadata": {},
   "outputs": [],
   "source": [
    "import gymnasium as gym\n",
    "import matplotlib.pyplot as plt\n",
    "import numpy as np\n",
    "import pygame\n",
    "#Make sure to install atari on conda first\n",
    "#https://anaconda.org/conda-forge/gym-atari\n",
    "# conda install -c conda-forge gym-atari\n"
   ]
  },
  {
   "cell_type": "code",
   "execution_count": 103,
   "metadata": {},
   "outputs": [
    {
     "name": "stdout",
     "output_type": "stream",
     "text": [
      "Box(0, 255, (210, 160, 3), uint8)\n",
      "Discrete(4)\n"
     ]
    },
    {
     "name": "stderr",
     "output_type": "stream",
     "text": [
      "A.L.E: Arcade Learning Environment (version 0.8.1+unknown)\n",
      "[Powered by Stella]\n",
      "Game console created:\n",
      "  ROM file:  /Users/jamesnguyen/anaconda3/envs/torch/lib/python3.11/site-packages/AutoROM/roms/breakout.bin\n",
      "  Cart Name: Breakout - Breakaway IV (1978) (Atari)\n",
      "  Cart MD5:  f34f08e5eb96e500e851a80be3277a56\n",
      "  Display Format:  AUTO-DETECT ==> NTSC\n",
      "  ROM Size:        2048\n",
      "  Bankswitch Type: AUTO-DETECT ==> 2K\n",
      "\n",
      "Running ROM file...\n",
      "Random seed is 829582471\n"
     ]
    }
   ],
   "source": [
    "#Create \n",
    "# What is NO Frame Skip ???\n",
    "# What's a difference between human and rgb_array mode? \n",
    "env = gym.make(\"BreakoutNoFrameskip-v4\", render_mode = 'rgb_array')\n",
    "print(env.observation_space)\n",
    "#Documentation\n",
    "#0: noob, does nothing\n",
    "#1: fire the ball\n",
    "#2: right \n",
    "#3: left \n",
    "print(env.action_space)"
   ]
  },
  {
   "cell_type": "code",
   "execution_count": 104,
   "metadata": {},
   "outputs": [
    {
     "data": {
      "text/plain": [
       "(array([[[0, 0, 0],\n",
       "         [0, 0, 0],\n",
       "         [0, 0, 0],\n",
       "         ...,\n",
       "         [0, 0, 0],\n",
       "         [0, 0, 0],\n",
       "         [0, 0, 0]],\n",
       " \n",
       "        [[0, 0, 0],\n",
       "         [0, 0, 0],\n",
       "         [0, 0, 0],\n",
       "         ...,\n",
       "         [0, 0, 0],\n",
       "         [0, 0, 0],\n",
       "         [0, 0, 0]],\n",
       " \n",
       "        [[0, 0, 0],\n",
       "         [0, 0, 0],\n",
       "         [0, 0, 0],\n",
       "         ...,\n",
       "         [0, 0, 0],\n",
       "         [0, 0, 0],\n",
       "         [0, 0, 0]],\n",
       " \n",
       "        ...,\n",
       " \n",
       "        [[0, 0, 0],\n",
       "         [0, 0, 0],\n",
       "         [0, 0, 0],\n",
       "         ...,\n",
       "         [0, 0, 0],\n",
       "         [0, 0, 0],\n",
       "         [0, 0, 0]],\n",
       " \n",
       "        [[0, 0, 0],\n",
       "         [0, 0, 0],\n",
       "         [0, 0, 0],\n",
       "         ...,\n",
       "         [0, 0, 0],\n",
       "         [0, 0, 0],\n",
       "         [0, 0, 0]],\n",
       " \n",
       "        [[0, 0, 0],\n",
       "         [0, 0, 0],\n",
       "         [0, 0, 0],\n",
       "         ...,\n",
       "         [0, 0, 0],\n",
       "         [0, 0, 0],\n",
       "         [0, 0, 0]]], dtype=uint8),\n",
       " {'lives': 5, 'episode_frame_number': 0, 'frame_number': 0})"
      ]
     },
     "execution_count": 104,
     "metadata": {},
     "output_type": "execute_result"
    }
   ],
   "source": [
    "# have to call this before render call\n",
    "env.reset()"
   ]
  },
  {
   "cell_type": "code",
   "execution_count": 105,
   "metadata": {},
   "outputs": [
    {
     "name": "stdout",
     "output_type": "stream",
     "text": [
      "(210, 160, 3)\n",
      "<class 'numpy.ndarray'>\n"
     ]
    },
    {
     "data": {
      "text/plain": [
       "<matplotlib.image.AxesImage at 0x17a28e2d0>"
      ]
     },
     "execution_count": 105,
     "metadata": {},
     "output_type": "execute_result"
    },
    {
     "data": {
      "image/png": "[encoded data removed]",
      "text/plain": [
       "<Figure size 640x480 with 1 Axes>"
      ]
     },
     "metadata": {},
     "output_type": "display_data"
    }
   ],
   "source": [
    "a = env.render()\n",
    "a = np.array(a)\n",
    "print(a.shape)\n",
    "print(type(a))\n",
    "plt.imshow(a)"
   ]
  },
  {
   "cell_type": "code",
   "execution_count": 106,
   "metadata": {},
   "outputs": [],
   "source": [
    "# In the Deep Q Learning paper, it resize the original image to 84x84x4, 4 84x84 gray scale images\n",
    "# 84 is shape\n",
    "# 4 is 4 consecutive frames that stack together to gives the model context, it's not 4 channesl "
   ]
  },
  {
   "cell_type": "code",
   "execution_count": null,
   "metadata": {},
   "outputs": [],
   "source": []
  },
  {
   "cell_type": "code",
   "execution_count": 98,
   "metadata": {},
   "outputs": [
    {
     "name": "stdout",
     "output_type": "stream",
     "text": [
      "state shape =  (210, 160, 3)\n",
      "reward =  0.0\n",
      "done =  False\n",
      "terminated = False\n",
      "info = {'lives': 5, 'episode_frame_number': 6, 'frame_number': 6}\n"
     ]
    }
   ],
   "source": [
    "obs, reward, done, terminated, info = env.step(0)\n",
    "print('state shape = ', obs.shape)\n",
    "print('reward = ', reward)\n",
    "print('done = ', done)\n",
    "print('terminated =', terminated)\n",
    "print('info =', info)"
   ]
  },
  {
   "cell_type": "code",
   "execution_count": 92,
   "metadata": {},
   "outputs": [],
   "source": [
    "class BreakoutGame:\n",
    "\n",
    "    def __init__(self, width, height, env):\n",
    "        print('init game')\n",
    "        pygame.init()\n",
    "        self.screen = pygame.display.set_mode((width, height))\n",
    "        self.clock = pygame.time.Clock()\n",
    "        self.done = False\n",
    "        self.env = env\n",
    "        self.env.reset()\n",
    "        self.GAME_SPEED = 50\n",
    "\n",
    "    def render(self):\n",
    "        while not self.done:\n",
    "            self.clock.tick(self.GAME_SPEED)\n",
    "            #get rgb frame ((width, height, channel))\n",
    "            frame = env.render()\n",
    "            #transpose to render frame on pygame screen\n",
    "            frame = np.transpose(frame, (1,0,2))\n",
    "            img = pygame.surfarray.make_surface(frame)\n",
    "            self.screen.blit(img, (0,0))\n",
    "            pygame.display.update()\n",
    "\n",
    "            # stand still if player does nothing\n",
    "            self.env.step(0)\n",
    "\n",
    "            # get key down events\n",
    "            for event in pygame.event.get():\n",
    "                if event.type == pygame.KEYDOWN:\n",
    "                    if event.key == pygame.K_q:\n",
    "                        self.done = True\n",
    "                    if event.key == pygame.K_SPACE:\n",
    "                        self.env.step(1)\n",
    "                if event.type == pygame.QUIT:\n",
    "                    self.done = True\n",
    "        \n",
    "            # human only, get keys that are being pressed\n",
    "            keys = pygame.key.get_pressed()\n",
    "            if keys[pygame.K_a]:\n",
    "                    self.env.step(3)\n",
    "            elif keys[pygame.K_d]:\n",
    "                    step_info = self.env.step(2)\n",
    "                \n",
    "            print(step_info)\n",
    "\n",
    "        self.env.close()\n",
    "        pygame.quit()\n",
    "        print('exit game')\n",
    "    "
   ]
  },
  {
   "cell_type": "code",
   "execution_count": 93,
   "metadata": {},
   "outputs": [
    {
     "name": "stdout",
     "output_type": "stream",
     "text": [
      "160   210\n",
      "init game\n"
     ]
    },
    {
     "name": "stderr",
     "output_type": "stream",
     "text": [
      "/Users/jamesnguyen/anaconda3/envs/torch/lib/python3.11/site-packages/gymnasium/utils/passive_env_checker.py:364: UserWarning: \u001b[33mWARN: No render fps was declared in the environment (env.metadata['render_fps'] is None or not defined), rendering may occur at inconsistent fps.\u001b[0m\n",
      "  logger.warn(\n"
     ]
    },
    {
     "ename": "UnboundLocalError",
     "evalue": "cannot access local variable 'step_info' where it is not associated with a value",
     "output_type": "error",
     "traceback": [
      "\u001b[0;31m---------------------------------------------------------------------------\u001b[0m",
      "\u001b[0;31mUnboundLocalError\u001b[0m                         Traceback (most recent call last)",
      "Cell \u001b[0;32mIn[93], line 7\u001b[0m\n\u001b[1;32m      5\u001b[0m \u001b[38;5;28mprint\u001b[39m(WIDTH, \u001b[38;5;124m'\u001b[39m\u001b[38;5;124m \u001b[39m\u001b[38;5;124m'\u001b[39m, HEIGHT)\n\u001b[1;32m      6\u001b[0m game \u001b[38;5;241m=\u001b[39m BreakoutGame(WIDTH, HEIGHT, env)\n\u001b[0;32m----> 7\u001b[0m game\u001b[38;5;241m.\u001b[39mrender()\n",
      "Cell \u001b[0;32mIn[92], line 44\u001b[0m, in \u001b[0;36mBreakoutGame.render\u001b[0;34m(self)\u001b[0m\n\u001b[1;32m     41\u001b[0m     \u001b[38;5;28;01melif\u001b[39;00m keys[pygame\u001b[38;5;241m.\u001b[39mK_d]:\n\u001b[1;32m     42\u001b[0m             step_info \u001b[38;5;241m=\u001b[39m \u001b[38;5;28mself\u001b[39m\u001b[38;5;241m.\u001b[39menv\u001b[38;5;241m.\u001b[39mstep(\u001b[38;5;241m2\u001b[39m)\n\u001b[0;32m---> 44\u001b[0m     \u001b[38;5;28mprint\u001b[39m(step_info)\n\u001b[1;32m     46\u001b[0m \u001b[38;5;28mself\u001b[39m\u001b[38;5;241m.\u001b[39menv\u001b[38;5;241m.\u001b[39mclose()\n\u001b[1;32m     47\u001b[0m pygame\u001b[38;5;241m.\u001b[39mquit()\n",
      "\u001b[0;31mUnboundLocalError\u001b[0m: cannot access local variable 'step_info' where it is not associated with a value"
     ]
    }
   ],
   "source": [
    "observation_space = env.observation_space\n",
    "action_space = env.action_space\n",
    "WIDTH = observation_space.shape[1]\n",
    "HEIGHT = observation_space.shape[0]\n",
    "print(WIDTH, ' ', HEIGHT)\n",
    "game = BreakoutGame(WIDTH, HEIGHT, env)\n",
    "game.render()"
   ]
  },
  {
   "cell_type": "markdown",
   "metadata": {},
   "source": [
    "# Coding a Deep Q Learning"
   ]
  },
  {
   "cell_type": "markdown",
   "metadata": {},
   "source": [
    "https://colab.research.google.com/github/Stable-Baselines-Team/rl-colab-notebooks/blob/sb3/atari_games.ipynb#scrollTo=t5WNF6G5gWZ1\n",
    "\n",
    "https://www.youtube.com/watch?v=cNkxCQflixY\n",
    "\n",
    "https://stable-baselines3.readthedocs.io/en/master/guide/examples.html\n",
    "\n",
    "\n",
    "https://stable-baselines3.readthedocs.io/en/master/guide/vec_envs.html"
   ]
  },
  {
   "cell_type": "code",
   "execution_count": 47,
   "metadata": {},
   "outputs": [],
   "source": [
    "#import stable baselines to quickly run experiments\n",
    "from stable_baselines3.common.env_util import make_atari_env\n",
    "from stable_baselines3.common.vec_env import VecFrameStack\n",
    "import numpy as np\n",
    "import matplotlib.pyplot as plt"
   ]
  },
  {
   "cell_type": "code",
   "execution_count": 41,
   "metadata": {},
   "outputs": [
    {
     "name": "stdout",
     "output_type": "stream",
     "text": [
      "Discrete(4)\n"
     ]
    },
    {
     "name": "stderr",
     "output_type": "stream",
     "text": [
      "A.L.E: Arcade Learning Environment (version 0.8.1+unknown)\n",
      "[Powered by Stella]\n",
      "Game console created:\n",
      "  ROM file:  /Users/jamesnguyen/anaconda3/envs/torch/lib/python3.11/site-packages/AutoROM/roms/breakout.bin\n",
      "  Cart Name: Breakout - Breakaway IV (1978) (Atari)\n",
      "  Cart MD5:  f34f08e5eb96e500e851a80be3277a56\n",
      "  Display Format:  AUTO-DETECT ==> NTSC\n",
      "  ROM Size:        2048\n",
      "  Bankswitch Type: AUTO-DETECT ==> 2K\n",
      "\n",
      "Running ROM file...\n",
      "Random seed is -830081800\n"
     ]
    }
   ],
   "source": [
    "original_env = make_atari_env(\"BreakoutNoFrameskip-v4\")\n",
    "print(env.action_space)\n",
    "env = VecFrameStack(env, n_stack = 4)"
   ]
  },
  {
   "cell_type": "code",
   "execution_count": 42,
   "metadata": {},
   "outputs": [
    {
     "name": "stdout",
     "output_type": "stream",
     "text": [
      "(1, 84, 84, 4)\n"
     ]
    }
   ],
   "source": [
    "obs = env.reset()\n",
    "print(obs.shape)"
   ]
  },
  {
   "cell_type": "code",
   "execution_count": 73,
   "metadata": {},
   "outputs": [
    {
     "data": {
      "image/png": "[encoded data removed]",
      "text/plain": [
       "<Figure size 2000x3000 with 4 Axes>"
      ]
     },
     "metadata": {},
     "output_type": "display_data"
    }
   ],
   "source": [
    "obs, reward, done, info  = env.step(np.array([0]))\n",
    "obs = np.transpose(obs, (3,0,1,2)).squeeze(1)\n",
    "\n",
    "fig, axes = plt.subplots(1,obs.shape[0], figsize=(20,30))\n",
    "#Plot the 4 frames\n",
    "for i in range(obs.shape[0]):\n",
    "    axes[i].imshow(obs[i])\n"
   ]
  },
  {
   "cell_type": "markdown",
   "metadata": {},
   "source": []
  },
  {
   "cell_type": "markdown",
   "metadata": {},
   "source": [
    "#  Building a Deep Q Learning"
   ]
  },
  {
   "cell_type": "code",
   "execution_count": null,
   "metadata": {},
   "outputs": [],
   "source": []
  },
  {
   "cell_type": "code",
   "execution_count": null,
   "metadata": {},
   "outputs": [],
   "source": []
  },
  {
   "cell_type": "code",
   "execution_count": null,
   "metadata": {},
   "outputs": [],
   "source": []
  }
 ],
 "metadata": {
  "kernelspec": {
   "display_name": "Python 3.11.6 ('torch')",
   "language": "python",
   "name": "python3"
  },
  "language_info": {
   "codemirror_mode": {
    "name": "ipython",
    "version": 3
   },
   "file_extension": ".py",
   "mimetype": "text/x-python",
   "name": "python",
   "nbconvert_exporter": "python",
   "pygments_lexer": "ipython3",
   "version": "3.11.6"
  },
  "orig_nbformat": 4,
  "vscode": {
   "interpreter": {
    "hash": "af18273774455bc90f5456b9f4898eab7ba4de506fde0c1d0784da333c7e8bbc"
   }
  }
 },
 "nbformat": 4,
 "nbformat_minor": 2
}
