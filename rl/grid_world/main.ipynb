{
 "cells": [
  {
   "cell_type": "code",
   "execution_count": 1,
   "metadata": {},
   "outputs": [
    {
     "name": "stdout",
     "output_type": "stream",
     "text": [
      "pygame 2.1.3 (SDL 2.28.4, Python 3.9.16)\n",
      "Hello from the pygame community. https://www.pygame.org/contribute.html\n"
     ]
    }
   ],
   "source": [
    "\n",
    "# Virtual display\n",
    "from pyvirtualdisplay import Display\n",
    "import gym\n",
    "import pygame\n",
    "import numpy as np\n",
    "import random\n",
    "from tqdm import trange, tqdm\n",
    "import time"
   ]
  },
  {
   "cell_type": "code",
   "execution_count": 2,
   "metadata": {},
   "outputs": [
    {
     "name": "stdout",
     "output_type": "stream",
     "text": [
      "Action space  4\n",
      "Action sample  3\n",
      "State space  16\n",
      "State sample  1\n"
     ]
    }
   ],
   "source": [
    "env = gym.make(\"FrozenLake-v1\",map_name=\"4x4\",is_slippery=False)\n",
    "\n",
    "#Action space\n",
    "# up, down, left, right actions\n",
    "action_space = env.action_space.n\n",
    "\n",
    "print(\"Action space \", env.action_space.n)\n",
    "print(\"Action sample \", env.action_space.sample())\n",
    "\n",
    "#State space\n",
    "#4x4 grid\n",
    "state_space = env.observation_space.n\n",
    "print(\"State space \", env.observation_space.n)\n",
    "print(\"State sample \", env.observation_space.sample())"
   ]
  },
  {
   "cell_type": "code",
   "execution_count": 3,
   "metadata": {},
   "outputs": [],
   "source": [
    "def init_qtable(state_space,action_space):\n",
    "    qtable = np.zeros((state_space, action_space))\n",
    "    return qtable\n",
    "\n",
    "def epsilon_greedy_policy(qtable, env, state, epsilon):\n",
    "    random_init = random.uniform(-1,1)\n",
    "    if random_init > epsilon:\n",
    "        action = np.argmax(qtable[state])\n",
    "    else:\n",
    "        action = env.action_state.sample()\n",
    "    return action\n",
    "\n",
    "def greedy_policy(qtable, state):\n",
    "    action = np.argmax(qtable[state])\n",
    "    return action\n"
   ]
  },
  {
   "cell_type": "code",
   "execution_count": 4,
   "metadata": {},
   "outputs": [
    {
     "name": "stdout",
     "output_type": "stream",
     "text": [
      "(16, 4)\n"
     ]
    }
   ],
   "source": [
    "qtable = init_qtable(state_space, action_space)\n",
    "print(qtable.shape)"
   ]
  },
  {
   "cell_type": "code",
   "execution_count": 37,
   "metadata": {},
   "outputs": [
    {
     "name": "stdout",
     "output_type": "stream",
     "text": [
      "(16, 4)\n",
      "\n",
      "\u001b[41mS\u001b[0mFFF\n",
      "FHFH\n",
      "FFFH\n",
      "HFFG\n"
     ]
    }
   ],
   "source": [
    "n_training_eps =  10000\n",
    "learning_rate = 0.07\n",
    "n_eval_eps = 100\n",
    "\n",
    "env_id=  'FrozenLake-v1'\n",
    "max_steps = 99\n",
    "gamma = 0.95\n",
    "eval_seed = []\n",
    "\n",
    "max_epsilon = 1.0\n",
    "min_epsilon = 0.005\n",
    "decay_rate = 0.0005\n",
    "\n",
    "env = gym.make(env_id, map_name=\"4x4\",is_slippery=False)\n",
    "state_space = env.observation_space.n\n",
    "action_space = env.action_space.n\n",
    "\n",
    "\n",
    "qtable = init_qtable(state_space, action_space)\n",
    "print(qtable.shape)\n",
    "\n",
    "env.render()"
   ]
  },
  {
   "cell_type": "code",
   "execution_count": 38,
   "metadata": {},
   "outputs": [
    {
     "name": "stderr",
     "output_type": "stream",
     "text": [
      "ep = 164, eposilon = 0.92:   1%|          | 82/10000 [00:00<00:12, 811.53it/s]"
     ]
    },
    {
     "name": "stdout",
     "output_type": "stream",
     "text": [
      "qtable shape = (16, 4)\n"
     ]
    },
    {
     "name": "stderr",
     "output_type": "stream",
     "text": [
      "ep = 9999, eposilon = 0.01: 100%|██████████| 10000/10000 [00:10<00:00, 985.22it/s]\n"
     ]
    }
   ],
   "source": [
    "def epsilon_greedy_policy(qtable, env, state, epsilon):\n",
    "    random_init = random.uniform(0,1)\n",
    "    if random_init > epsilon:\n",
    "        action = np.argmax(qtable[state])\n",
    "    else:\n",
    "        action = env.action_space.sample()\n",
    "    return action\n",
    "\n",
    "def greedy_policy(qtable, state):\n",
    "    action = np.argmax(qtable[state])\n",
    "    return action\n",
    "\n",
    "    \n",
    "def train(n_training_eps, min_epsilon, max_epsilon, decay_rate, env, max_steps, qtable ):\n",
    "    loop = tqdm(list(range(n_training_eps)))\n",
    "    print('qtable shape =', qtable.shape)\n",
    "\n",
    "    for ep in loop:\n",
    "        epsilon = min_epsilon + (max_epsilon - min_epsilon) * np.exp(-decay_rate * ep)\n",
    "        state = env.reset()\n",
    "        done = False\n",
    "\n",
    "        for step in range(max_steps):\n",
    "            action = epsilon_greedy_policy(qtable, env, state,epsilon)\n",
    "            new_state, reward, done, info = env.step(action)\n",
    "\n",
    "            qtable[state][action] = qtable[state][action] + \\\n",
    "                learning_rate * (reward  + gamma * np.max(qtable[new_state]) - qtable[state][action])\n",
    "            \n",
    "            if done:\n",
    "                break\n",
    "            \n",
    "            state = new_state\n",
    "        \n",
    "        loop.set_description(f\"ep = {ep}, eposilon = {epsilon:.2f}\")\n",
    "\n",
    "train(n_training_eps, min_epsilon, max_epsilon, decay_rate, env, max_steps, qtable)\n",
    "\n"
   ]
  },
  {
   "cell_type": "code",
   "execution_count": 39,
   "metadata": {},
   "outputs": [
    {
     "name": "stdout",
     "output_type": "stream",
     "text": [
      "[[0.73509189 0.77378094 0.6983373  0.73509189]\n",
      " [0.73509189 0.         0.64252666 0.68996204]\n",
      " [0.69451544 0.37632231 0.18956545 0.40422976]\n",
      " [0.43732229 0.         0.00238698 0.00489795]\n",
      " [0.77378094 0.81450625 0.         0.73509189]\n",
      " [0.         0.         0.         0.        ]\n",
      " [0.         0.86608611 0.         0.3246072 ]\n",
      " [0.         0.         0.         0.        ]\n",
      " [0.81450625 0.         0.857375   0.77378094]\n",
      " [0.81450625 0.9025     0.9025     0.        ]\n",
      " [0.8509721  0.95       0.         0.75349534]\n",
      " [0.         0.         0.         0.        ]\n",
      " [0.         0.         0.         0.        ]\n",
      " [0.         0.9025     0.95       0.857375  ]\n",
      " [0.9025     0.95       1.         0.9025    ]\n",
      " [0.         0.         0.         0.        ]]\n"
     ]
    }
   ],
   "source": [
    "print(qtable)"
   ]
  },
  {
   "cell_type": "code",
   "execution_count": 40,
   "metadata": {},
   "outputs": [],
   "source": [
    "state = env.reset()"
   ]
  },
  {
   "cell_type": "code",
   "execution_count": 41,
   "metadata": {},
   "outputs": [
    {
     "name": "stdout",
     "output_type": "stream",
     "text": [
      "0\n"
     ]
    }
   ],
   "source": [
    "print(state)"
   ]
  },
  {
   "cell_type": "code",
   "execution_count": 42,
   "metadata": {},
   "outputs": [
    {
     "name": "stdout",
     "output_type": "stream",
     "text": [
      "\n",
      "\u001b[41mS\u001b[0mFFF\n",
      "FHFH\n",
      "FFFH\n",
      "HFFG\n"
     ]
    }
   ],
   "source": [
    "env.render()"
   ]
  },
  {
   "cell_type": "code",
   "execution_count": 43,
   "metadata": {},
   "outputs": [
    {
     "name": "stdout",
     "output_type": "stream",
     "text": [
      "Initial state\n",
      "\n",
      "\u001b[41mS\u001b[0mFFF\n",
      "FHFH\n",
      "FFFH\n",
      "HFFG\n",
      "  (Down)\n",
      "SFFF\n",
      "\u001b[41mF\u001b[0mHFH\n",
      "FFFH\n",
      "HFFG\n",
      "  (Down)\n",
      "SFFF\n",
      "FHFH\n",
      "\u001b[41mF\u001b[0mFFH\n",
      "HFFG\n",
      "  (Right)\n",
      "SFFF\n",
      "FHFH\n",
      "F\u001b[41mF\u001b[0mFH\n",
      "HFFG\n",
      "  (Down)\n",
      "SFFF\n",
      "FHFH\n",
      "FFFH\n",
      "H\u001b[41mF\u001b[0mFG\n",
      "  (Right)\n",
      "SFFF\n",
      "FHFH\n",
      "FFFH\n",
      "HF\u001b[41mF\u001b[0mG\n",
      "  (Right)\n",
      "SFFF\n",
      "FHFH\n",
      "FFFH\n",
      "HFF\u001b[41mG\u001b[0m\n",
      "DONE\n"
     ]
    }
   ],
   "source": [
    "done = False\n",
    "print(\"Initial state\")\n",
    "env.render()\n",
    "while not done:\n",
    "    action = np.argmax(qtable[state][:])\n",
    "    state, reward, done, info = env.step(action)\n",
    "    env.render()\n",
    "    time.sleep(1)\n",
    "\n",
    "print(\"DONE\")"
   ]
  },
  {
   "cell_type": "code",
   "execution_count": null,
   "metadata": {},
   "outputs": [],
   "source": []
  }
 ],
 "metadata": {
  "kernelspec": {
   "display_name": "torch",
   "language": "python",
   "name": "python3"
  },
  "language_info": {
   "codemirror_mode": {
    "name": "ipython",
    "version": 3
   },
   "file_extension": ".py",
   "mimetype": "text/x-python",
   "name": "python",
   "nbconvert_exporter": "python",
   "pygments_lexer": "ipython3",
   "version": "3.9.16"
  }
 },
 "nbformat": 4,
 "nbformat_minor": 2
}
