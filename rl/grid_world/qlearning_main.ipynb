{
 "cells": [
  {
   "cell_type": "code",
   "execution_count": 1,
   "metadata": {},
   "outputs": [],
   "source": [
    "from src.env import GridWorldRenderer, GridWorldEnv, GET_RANDOM_MAP\n",
    "from src.agent import QLearningAgent, SarsaAgent\n",
    "import matplotlib.pyplot as plt\n",
    "import seaborn as sns\n",
    "import numpy as np\n",
    "import os\n",
    "from src.utils import qtable_heatmap, agent_decision"
   ]
  },
  {
   "cell_type": "code",
   "execution_count": 2,
   "metadata": {},
   "outputs": [],
   "source": [
    "# map = [\n",
    "#     ['A', 'R', '', 'S'],\n",
    "#     ['', '', '', ''],\n",
    "#     ['B', '', 'B', 'R'],\n",
    "#     ['', '', '', 'G']\n",
    "#     ]\n",
    "\n",
    "# rows = 4 \n",
    "# cols =4 \n",
    "\n",
    "# def gen_obj():\n",
    "#     choices = ['R', 'S', 'B', '-']\n",
    "#     weights =  [0.05, 0.05, 0.05, 0.85]\n",
    "#     return np.random.choice(choices, p = weights)\n",
    "\n",
    "# map = [[gen_obj() for _ in range(rows)] for _ in range(cols)]\n",
    "# map[0][0] = 'A'\n",
    "# map[rows - 1][cols - 1] = 'G'\n",
    "\n",
    "# map = [''.join(row) for row in map]\n",
    "\n",
    "# for row in map:\n",
    "#     print(row)"
   ]
  },
  {
   "cell_type": "code",
   "execution_count": 3,
   "metadata": {},
   "outputs": [
    {
     "name": "stdout",
     "output_type": "stream",
     "text": [
      "A-----B-----------SB\n",
      "-------------B------\n",
      "-----------BS-B----S\n",
      "-------R-----------S\n",
      "--------B--B-----R--\n",
      "----------------R---\n",
      "----R-BR------------\n",
      "-B---R------R-------\n",
      "-------------S------\n",
      "----R-------S--R---S\n",
      "---B-------B--S-B---\n",
      "--B--S----B--BR-B--B\n",
      "--B---RR--S--------B\n",
      "--BS---B----------SR\n",
      "----RB-----R---S--S-\n",
      "-R------------------\n",
      "S--------------B----\n",
      "--------S------S--R-\n",
      "-----B-----------B--\n",
      "S--------------R--RG\n"
     ]
    }
   ],
   "source": [
    "reward_dict = {\n",
    "    'G': 3,\n",
    "    'B': 1,\n",
    "    'R': -1,\n",
    "    'S': -1,\n",
    "    'out_of_bound': -1,\n",
    "    'visited_state': -1,\n",
    "    'terminated': -1,\n",
    "}\n",
    "map = [\n",
    "    \"A--B\",\n",
    "    \"----\",\n",
    "    \"B---\",\n",
    "    \"---G\",\n",
    "]\n",
    "map = GET_RANDOM_MAP(20,20)\n",
    "#print map\n",
    "for row in map:\n",
    "    print(row)\n",
    "env = GridWorldEnv(map = map, reward_dict = reward_dict, max_timestep = 100)"
   ]
  },
  {
   "cell_type": "markdown",
   "metadata": {},
   "source": [
    "# Q learning"
   ]
  },
  {
   "cell_type": "code",
   "execution_count": 4,
   "metadata": {},
   "outputs": [
    {
     "name": "stderr",
     "output_type": "stream",
     "text": [
      "ep = 58, eposilon = 0.97, reached goals = 0, terminated = 0:   0%|          | 40/10000 [00:00<00:25, 394.52it/s]"
     ]
    },
    {
     "name": "stdout",
     "output_type": "stream",
     "text": [
      "====================\n",
      "QLEARNING TRAINING\n",
      "====================\n"
     ]
    },
    {
     "name": "stderr",
     "output_type": "stream",
     "text": [
      "ep = 9999, eposilon = 0.01, reached goals = 2144, terminated = 0: 100%|██████████| 10000/10000 [00:29<00:00, 335.56it/s]\n"
     ]
    },
    {
     "name": "stdout",
     "output_type": "stream",
     "text": [
      "[[-1.49042317 -0.64209647 -0.64160872 -1.48376112]\n",
      " [-1.19153881 -0.55025933 -0.55801542 -0.64810077]\n",
      " [-0.98661124 -0.4397276  -0.44990751 -1.00249179]\n",
      " ...\n",
      " [-0.12022139 -0.11223812 -0.15307163 -0.11794228]\n",
      " [-0.00551715  1.04498445 -0.03887587 -0.05917652]\n",
      " [ 0.          0.          0.          0.        ]]\n"
     ]
    }
   ],
   "source": [
    "agent = QLearningAgent(env)\n",
    "agent.train()\n",
    "agent.save()\n",
    "# agent.load('./qtable.npy')\n",
    "print(agent.qtable)"
   ]
  },
  {
   "cell_type": "code",
   "execution_count": 5,
   "metadata": {},
   "outputs": [
    {
     "name": "stdout",
     "output_type": "stream",
     "text": [
      "====================\n",
      "ENV MAP\n",
      "====================\n",
      "['A', '-', '-', '-', '-', '-', 'B', '-', '-', '-', '-', '-', '-', '-', '-', '-', '-', '-', 'S', 'B']\n",
      "['-', '-', '-', '-', '-', '-', '-', '-', '-', '-', '-', '-', '-', 'B', '-', '-', '-', '-', '-', '-']\n",
      "['-', '-', '-', '-', '-', '-', '-', '-', '-', '-', '-', 'B', 'S', '-', 'B', '-', '-', '-', '-', 'S']\n",
      "['-', '-', '-', '-', '-', '-', '-', 'R', '-', '-', '-', '-', '-', '-', '-', '-', '-', '-', '-', 'S']\n",
      "['-', '-', '-', '-', '-', '-', '-', '-', 'B', '-', '-', 'B', '-', '-', '-', '-', '-', 'R', '-', '-']\n",
      "['-', '-', '-', '-', '-', '-', '-', '-', '-', '-', '-', '-', '-', '-', '-', '-', 'R', '-', '-', '-']\n",
      "['-', '-', '-', '-', 'R', '-', 'B', 'R', '-', '-', '-', '-', '-', '-', '-', '-', '-', '-', '-', '-']\n",
      "['-', 'B', '-', '-', '-', 'R', '-', '-', '-', '-', '-', '-', 'R', '-', '-', '-', '-', '-', '-', '-']\n",
      "['-', '-', '-', '-', '-', '-', '-', '-', '-', '-', '-', '-', '-', 'S', '-', '-', '-', '-', '-', '-']\n",
      "['-', '-', '-', '-', 'R', '-', '-', '-', '-', '-', '-', '-', 'S', '-', '-', 'R', '-', '-', '-', 'S']\n",
      "['-', '-', '-', 'B', '-', '-', '-', '-', '-', '-', '-', 'B', '-', '-', 'S', '-', 'B', '-', '-', '-']\n",
      "['-', '-', 'B', '-', '-', 'S', '-', '-', '-', '-', 'B', '-', '-', 'B', 'R', '-', 'B', '-', '-', 'B']\n",
      "['-', '-', 'B', '-', '-', '-', 'R', 'R', '-', '-', 'S', '-', '-', '-', '-', '-', '-', '-', '-', 'B']\n",
      "['-', '-', 'B', 'S', '-', '-', '-', 'B', '-', '-', '-', '-', '-', '-', '-', '-', '-', '-', 'S', 'R']\n",
      "['-', '-', '-', '-', 'R', 'B', '-', '-', '-', '-', '-', 'R', '-', '-', '-', 'S', '-', '-', 'S', '-']\n",
      "['-', 'R', '-', '-', '-', '-', '-', '-', '-', '-', '-', '-', '-', '-', '-', '-', '-', '-', '-', '-']\n",
      "['S', '-', '-', '-', '-', '-', '-', '-', '-', '-', '-', '-', '-', '-', '-', 'B', '-', '-', '-', '-']\n",
      "['-', '-', '-', '-', '-', '-', '-', '-', 'S', '-', '-', '-', '-', '-', '-', 'S', '-', '-', 'R', '-']\n",
      "['-', '-', '-', '-', '-', 'B', '-', '-', '-', '-', '-', '-', '-', '-', '-', '-', '-', 'B', '-', '-']\n",
      "['S', '-', '-', '-', '-', '-', '-', '-', '-', '-', '-', '-', '-', '-', '-', 'R', '-', '-', 'R', 'G']\n",
      "====================\n",
      "ENV STATE\n",
      "====================\n",
      "[[1.  0.  0.  0.  0.  0.  0.  0.  0.  0.  0.  0.  0.  0.  0.  0.  0.  0.\n",
      "  0.  0. ]\n",
      " [0.  0.  0.  0.  0.  0.  0.  0.  0.  0.  0.  0.  0.  0.  0.  0.  0.  0.\n",
      "  0.  0. ]\n",
      " [0.  0.  0.  0.  0.  0.  0.  0.  0.  0.  0.  0.  0.  0.  0.  0.  0.  0.\n",
      "  0.  0. ]\n",
      " [0.  0.  0.  0.  0.  0.  0.  0.  0.  0.  0.  0.  0.  0.  0.  0.  0.  0.\n",
      "  0.  0. ]\n",
      " [0.  0.  0.  0.  0.  0.  0.  0.  0.  0.  0.  0.  0.  0.  0.  0.  0.  0.\n",
      "  0.  0. ]\n",
      " [0.  0.  0.  0.  0.  0.  0.  0.  0.  0.  0.  0.  0.  0.  0.  0.  0.  0.\n",
      "  0.  0. ]\n",
      " [0.  0.  0.  0.  0.  0.  0.  0.  0.  0.  0.  0.  0.  0.  0.  0.  0.  0.\n",
      "  0.  0. ]\n",
      " [0.  0.  0.  0.  0.  0.  0.  0.  0.  0.  0.  0.  0.  0.  0.  0.  0.  0.\n",
      "  0.  0. ]\n",
      " [0.  0.  0.  0.  0.  0.  0.  0.  0.  0.  0.  0.  0.  0.  0.  0.  0.  0.\n",
      "  0.  0. ]\n",
      " [0.  0.  0.  0.  0.  0.  0.  0.  0.  0.  0.  0.  0.  0.  0.  0.  0.  0.\n",
      "  0.  0. ]\n",
      " [0.  0.  0.  0.  0.  0.  0.  0.  0.  0.  0.  0.  0.  0.  0.  0.  0.  0.\n",
      "  0.  0. ]\n",
      " [0.  0.  0.  0.  0.  0.  0.  0.  0.  0.  0.  0.  0.  0.  0.  0.  0.  0.\n",
      "  0.  0. ]\n",
      " [0.  0.  0.  0.  0.  0.  0.  0.  0.  0.  0.  0.  0.  0.  0.  0.  0.  0.\n",
      "  0.  0. ]\n",
      " [0.  0.  0.  0.  0.  0.  0.  0.  0.  0.  0.  0.  0.  0.  0.  0.  0.  0.\n",
      "  0.  0. ]\n",
      " [0.  0.  0.  0.  0.  0.  0.  0.  0.  0.  0.  0.  0.  0.  0.  0.  0.  0.\n",
      "  0.  0. ]\n",
      " [0.  0.  0.  0.  0.  0.  0.  0.  0.  0.  0.  0.  0.  0.  0.  0.  0.  0.\n",
      "  0.  0. ]\n",
      " [0.  0.  0.  0.  0.  0.  0.  0.  0.  0.  0.  0.  0.  0.  0.  0.  0.  0.\n",
      "  0.  0. ]\n",
      " [0.  0.  0.  0.  0.  0.  0.  0.  0.  0.  0.  0.  0.  0.  0.  0.  0.  0.\n",
      "  0.  0. ]\n",
      " [0.  0.  0.  0.  0.  0.  0.  0.  0.  0.  0.  0.  0.  0.  0.  0.  0.  0.\n",
      "  0.  0. ]\n",
      " [0.  0.  0.  0.  0.  0.  0.  0.  0.  0.  0.  0.  0.  0.  0.  0.  0.  0.\n",
      "  0.  0.5]]\n",
      "====================\n",
      "ENV DESCRIPTION\n",
      "====================\n",
      "reward dict = {'G': 3, 'B': 1, 'R': -1, 'S': -1, 'out_of_bound': -1, 'visited_state': -1, 'terminated': -1}\n",
      "timestep = 0, max_timestep = 100,\n",
      "obs space = 400\n",
      "actions = 4\n",
      "agent position = [0, 0]\n",
      "goal position = [19, 19]\n",
      "terminated = False\n",
      "\n"
     ]
    }
   ],
   "source": [
    "env.reset()\n",
    "print(env)"
   ]
  },
  {
   "cell_type": "code",
   "execution_count": 6,
   "metadata": {},
   "outputs": [],
   "source": [
    "#Test the enviroment rewards and stuff\n",
    "# info = env.step(2)\n",
    "# print(env.state)\n",
    "# for row in env.map:\n",
    "#     print(row)\n",
    "# print(info)"
   ]
  },
  {
   "cell_type": "code",
   "execution_count": 7,
   "metadata": {},
   "outputs": [],
   "source": [
    "# env.render_simple(agent)"
   ]
  },
  {
   "cell_type": "markdown",
   "metadata": {},
   "source": []
  },
  {
   "cell_type": "code",
   "execution_count": 8,
   "metadata": {},
   "outputs": [
    {
     "name": "stdout",
     "output_type": "stream",
     "text": [
      "/Users/jamesnguyen/Desktop/ml_projects/rl/grid_world/src\n",
      "exit\n",
      "Terminated\n"
     ]
    }
   ],
   "source": [
    "env.render(agent)"
   ]
  },
  {
   "cell_type": "code",
   "execution_count": null,
   "metadata": {},
   "outputs": [],
   "source": []
  }
 ],
 "metadata": {
  "kernelspec": {
   "display_name": "Python 3.11.3 ('torch')",
   "language": "python",
   "name": "python3"
  },
  "language_info": {
   "codemirror_mode": {
    "name": "ipython",
    "version": 3
   },
   "file_extension": ".py",
   "mimetype": "text/x-python",
   "name": "python",
   "nbconvert_exporter": "python",
   "pygments_lexer": "ipython3",
   "version": "3.11.6"
  },
  "vscode": {
   "interpreter": {
    "hash": "af18273774455bc90f5456b9f4898eab7ba4de506fde0c1d0784da333c7e8bbc"
   }
  }
 },
 "nbformat": 4,
 "nbformat_minor": 2
}
