{
 "cells": [
  {
   "cell_type": "code",
   "execution_count": 1,
   "metadata": {},
   "outputs": [],
   "source": [
    "from src.env import GridWorldRenderer, GridWorldEnv\n",
    "from src.agent import QLearningAgent, SarsaAgent\n",
    "import matplotlib.pyplot as plt\n",
    "import seaborn as sns\n",
    "import numpy as np\n",
    "import os\n",
    "from src.utils import qtable_heatmap, agent_decision"
   ]
  },
  {
   "cell_type": "code",
   "execution_count": 6,
   "metadata": {},
   "outputs": [],
   "source": [
    "# map = [\n",
    "#     ['A', 'R', '', 'S'],\n",
    "#     ['', '', '', ''],\n",
    "#     ['B', '', 'B', 'R'],\n",
    "#     ['', '', '', 'G']\n",
    "#     ]\n",
    "\n",
    "# rows = 4 \n",
    "# cols =4 \n",
    "\n",
    "# def gen_obj():\n",
    "#     choices = ['R', 'S', 'B', '-']\n",
    "#     weights =  [0.05, 0.05, 0.05, 0.85]\n",
    "#     return np.random.choice(choices, p = weights)\n",
    "\n",
    "# map = [[gen_obj() for _ in range(rows)] for _ in range(cols)]\n",
    "# map[0][0] = 'A'\n",
    "# map[rows - 1][cols - 1] = 'G'\n",
    "\n",
    "# map = [''.join(row) for row in map]\n",
    "\n",
    "# for row in map:\n",
    "#     print(row)"
   ]
  },
  {
   "cell_type": "code",
   "execution_count": 5,
   "metadata": {},
   "outputs": [],
   "source": [
    "reward_dict = {\n",
    "    'G': 10,\n",
    "    'B': 10,\n",
    "    'R': -1,\n",
    "    'S': -1,\n",
    "    'out_of_bound': -2,\n",
    "    'visited_state': -3,\n",
    "    'terminated': -1,\n",
    "}\n",
    "map = [\n",
    "    \"A--B\",\n",
    "    \"--B-\",\n",
    "    \"R---\",\n",
    "    \"-G--\",\n",
    "]\n",
    "env = GridWorldEnv(map = map, reward_dict = reward_dict, max_timestep = 100)"
   ]
  },
  {
   "cell_type": "code",
   "execution_count": 6,
   "metadata": {},
   "outputs": [
    {
     "name": "stderr",
     "output_type": "stream",
     "text": [
      "ep = 120, eposilon = 0.94, reached goals = 112, terminated = 0:   1%|          | 84/10000 [00:00<00:11, 835.24it/s]"
     ]
    },
    {
     "name": "stdout",
     "output_type": "stream",
     "text": [
      "====================\n",
      "SARSA TRAINING\n",
      "====================\n"
     ]
    },
    {
     "name": "stderr",
     "output_type": "stream",
     "text": [
      "ep = 6518, eposilon = 0.04, reached goals = 6486, terminated = 0:  64%|██████▍   | 6447/10000 [00:07<00:03, 1149.62it/s]IOPub message rate exceeded.\n",
      "The notebook server will temporarily stop sending output\n",
      "to the client in order to avoid crashing it.\n",
      "To change this limit, set the config variable\n",
      "`--NotebookApp.iopub_msg_rate_limit`.\n",
      "\n",
      "Current values:\n",
      "NotebookApp.iopub_msg_rate_limit=1000.0 (msgs/sec)\n",
      "NotebookApp.rate_limit_window=3.0 (secs)\n",
      "\n",
      "ep = 9999, eposilon = 0.01, reached goals = 9967, terminated = 0: 100%|██████████| 10000/10000 [00:11<00:00, 894.33it/s]\n"
     ]
    },
    {
     "name": "stdout",
     "output_type": "stream",
     "text": [
      "[[-2.84985739e+00 -5.77639100e-01  1.04966582e+00 -2.80294743e+00]\n",
      " [-2.07291462e+00 -1.18998546e+00  1.94907928e+00 -1.68196200e+00]\n",
      " [-2.03542232e+00 -7.77083409e-01 -6.93353559e-01 -2.12070509e+00]\n",
      " [-3.28477886e+00 -3.37473337e+00 -2.94021150e+00 -2.82921632e+00]\n",
      " [-1.51458368e+00  3.73362005e+00 -6.01328737e-01 -1.28590569e+00]\n",
      " [-1.44775825e+00  7.80834576e+00  3.35209409e+00 -1.76199547e+00]\n",
      " [-1.79715181e+00 -1.29711917e+00  2.05393307e+00  1.17109091e-01]\n",
      " [-5.41199361e-03 -1.92343463e+00 -1.10873752e+00 -1.29221049e+00]\n",
      " [-1.59255809e+00  8.06030082e-01  2.77440564e+00 -1.04467740e+00]\n",
      " [-2.85403491e-01 -1.55082543e-01  9.15435043e+00 -7.34617951e-01]\n",
      " [-2.14755039e+00 -1.12107435e+00  5.10618168e+00  2.59495517e+00]\n",
      " [-1.32932268e+00 -1.54807676e+00 -2.35309958e-01 -8.45572967e-01]\n",
      " [-1.28045186e+00  8.27071590e+00  2.02194126e-01  1.20528426e-01]\n",
      " [ 0.00000000e+00  0.00000000e+00  0.00000000e+00  0.00000000e+00]\n",
      " [-9.67611045e-01 -5.46868465e-01  1.86010978e+00  9.96807254e+00]\n",
      " [-1.82561412e+00 -1.10391394e+00 -1.16176597e+00  3.23600329e+00]]\n"
     ]
    }
   ],
   "source": [
    "sarsa = SarsaAgent(env)\n",
    "sarsa.train()\n",
    "sarsa.save('sarsa_qtable.npy')\n",
    "print(sarsa.qtable)"
   ]
  },
  {
   "cell_type": "code",
   "execution_count": 13,
   "metadata": {},
   "outputs": [
    {
     "name": "stderr",
     "output_type": "stream",
     "text": [
      "ep = 111, eposilon = 0.95, reached goals = 102, terminated = 0:   0%|          | 47/10000 [00:00<00:21, 468.36it/s]"
     ]
    },
    {
     "name": "stdout",
     "output_type": "stream",
     "text": [
      "====================\n",
      "TRAINING\n",
      "====================\n"
     ]
    },
    {
     "name": "stderr",
     "output_type": "stream",
     "text": [
      "ep = 5259, eposilon = 0.08, reached goals = 5218, terminated = 0:  52%|█████▏    | 5245/10000 [00:05<00:03, 1232.18it/s]IOPub message rate exceeded.\n",
      "The notebook server will temporarily stop sending output\n",
      "to the client in order to avoid crashing it.\n",
      "To change this limit, set the config variable\n",
      "`--NotebookApp.iopub_msg_rate_limit`.\n",
      "\n",
      "Current values:\n",
      "NotebookApp.iopub_msg_rate_limit=1000.0 (msgs/sec)\n",
      "NotebookApp.rate_limit_window=3.0 (secs)\n",
      "\n",
      "ep = 9999, eposilon = 0.01, reached goals = 9958, terminated = 0: 100%|██████████| 10000/10000 [00:10<00:00, 946.20it/s]\n"
     ]
    },
    {
     "name": "stdout",
     "output_type": "stream",
     "text": [
      "[[ 3.35589007e+00  1.07407134e+01  2.78065723e+00  3.32754592e+00]\n",
      " [ 4.50142953e+00  1.24799731e+01  6.63576151e+00  4.26374987e+00]\n",
      " [ 6.72721347e+00  1.42437004e+01  1.04932221e+01  3.71167943e+00]\n",
      " [ 2.64524169e+00  2.63388284e+00  7.52773889e+00  6.17444108e+00]\n",
      " [ 4.54215918e-01  6.46439407e+00 -1.58916899e+00 -6.49916401e-01]\n",
      " [ 2.07326223e+00  1.18016028e+01 -2.32921969e-01  1.91614070e-03]\n",
      " [ 5.00068090e+00  7.02898843e+00  2.48056413e+00  3.54923167e+00]\n",
      " [ 5.29607697e+00  5.15210317e+00  8.88406944e+00  7.01326972e+00]\n",
      " [-1.19968642e+00 -6.67758986e-01 -1.00067493e+00 -1.26361268e+00]\n",
      " [ 3.34866481e+00  1.96272971e-01 -2.35945481e-01 -1.40789255e+00]\n",
      " [ 1.64079195e+00  6.43330848e+00  2.31531247e+00 -4.68964597e-01]\n",
      " [ 3.94730521e+00  6.09586992e+00  9.99845511e+00  3.12735947e+00]\n",
      " [-1.44103976e+00 -6.18443658e-01 -1.02473808e+00 -1.08134930e+00]\n",
      " [-1.10865807e+00  2.14504673e+00 -7.26194165e-01 -1.02152993e+00]\n",
      " [-3.47597898e-01  6.95045867e+00  5.08172276e-01 -5.31373660e-01]\n",
      " [ 0.00000000e+00  0.00000000e+00  0.00000000e+00  0.00000000e+00]]\n"
     ]
    }
   ],
   "source": [
    "agent = QLearningAgent(env)\n",
    "agent.train()\n",
    "agent.save()\n",
    "# agent.load('./qtable.npy')\n",
    "print(agent.qtable)"
   ]
  },
  {
   "cell_type": "code",
   "execution_count": 7,
   "metadata": {},
   "outputs": [
    {
     "name": "stdout",
     "output_type": "stream",
     "text": [
      "A--B\n",
      "--B-\n",
      "R---\n",
      "-G--\n"
     ]
    },
    {
     "data": {
      "text/plain": [
       "[['down', 'down', 'down', 'left'],\n",
       " ['right', 'right', 'down', 'up'],\n",
       " ['down', 'down', 'down', 'down'],\n",
       " ['right', 'up', 'left', 'left']]"
      ]
     },
     "execution_count": 7,
     "metadata": {},
     "output_type": "execute_result"
    }
   ],
   "source": [
    "# qtable_heatmap(agent.qtable)\n",
    "for row in map:\n",
    "    print(row)\n",
    "agent_decision(sarsa.qtable)"
   ]
  },
  {
   "cell_type": "code",
   "execution_count": 7,
   "metadata": {},
   "outputs": [
    {
     "name": "stdout",
     "output_type": "stream",
     "text": [
      "====================\n",
      "ENV MAP\n",
      "====================\n",
      "['A', '-', '-', 'B']\n",
      "['-', '-', '-', '-']\n",
      "['B', 'R', '-', '-']\n",
      "['-', '-', '-', 'G']\n",
      "====================\n",
      "ENV STATE\n",
      "====================\n",
      "[[1.  0.  0.  0. ]\n",
      " [0.  0.  0.  0. ]\n",
      " [0.  0.  0.  0. ]\n",
      " [0.  0.  0.  0.5]]\n",
      "====================\n",
      "ENV DESCRIPTION\n",
      "====================\n",
      "reward dict = {'G': 10, 'B': 10, 'R': -1, 'S': -1, 'out_of_bound': -2, 'visited_state': -3, 'terminated': -1}\n",
      "timestep = 0, max_timestep = 100,\n",
      "obs space = 16\n",
      "actions = 4\n",
      "agent position = [0, 0]\n",
      "goal position = [3, 3]\n",
      "terminated = False\n",
      "\n"
     ]
    }
   ],
   "source": [
    "env.reset()\n",
    "print(env)"
   ]
  },
  {
   "cell_type": "code",
   "execution_count": 8,
   "metadata": {},
   "outputs": [
    {
     "name": "stdout",
     "output_type": "stream",
     "text": [
      "[[0.  0.  0.  0. ]\n",
      " [0.  0.  0.  0. ]\n",
      " [0.  0.  0.  0. ]\n",
      " [0.  0.  0.  0.5]]\n",
      "['A', '-', '-', 'B']\n",
      "['-', '-', '-', '-']\n",
      "['R', '-', '-', '-']\n",
      "['-', '-', '-', 'G']\n",
      "(15, 10, True, False, {})\n"
     ]
    }
   ],
   "source": [
    "#Test the enviroment rewards and stuff\n",
    "info = env.step(1)\n",
    "print(env.state)\n",
    "for row in env.map:\n",
    "    print(row)\n",
    "print(info)"
   ]
  },
  {
   "cell_type": "code",
   "execution_count": 9,
   "metadata": {},
   "outputs": [
    {
     "name": "stdout",
     "output_type": "stream",
     "text": [
      "====================\n",
      "MAP\n",
      "['A', '-', '-', 'B']\n",
      "['-', '-', '-', '-']\n",
      "['R', '-', '-', '-']\n",
      "['-', '-', '-', 'G']\n",
      "====================\n",
      "[[1.  0.  0.  0. ]\n",
      " [0.  0.  0.  0. ]\n",
      " [0.  0.  0.  0. ]\n",
      " [0.  0.  0.  0.5]]\n",
      "took action = 1(right) to state 1 done = False, terminated = False\n",
      "[[0.  1.  0.  0. ]\n",
      " [0.  0.  0.  0. ]\n",
      " [0.  0.  0.  0. ]\n",
      " [0.  0.  0.  0.5]]\n",
      "====================\n",
      "took action = 1(right) to state 2 done = False, terminated = False\n",
      "[[0.  0.  1.  0. ]\n",
      " [0.  0.  0.  0. ]\n",
      " [0.  0.  0.  0. ]\n",
      " [0.  0.  0.  0.5]]\n",
      "====================\n",
      "took action = 1(right) to state 3 done = False, terminated = False\n",
      "[[0.  0.  0.  1. ]\n",
      " [0.  0.  0.  0. ]\n",
      " [0.  0.  0.  0. ]\n",
      " [0.  0.  0.  0.5]]\n",
      "====================\n",
      "took action = 2(down) to state 7 done = False, terminated = False\n",
      "[[0.  0.  0.  0. ]\n",
      " [0.  0.  0.  1. ]\n",
      " [0.  0.  0.  0. ]\n",
      " [0.  0.  0.  0.5]]\n",
      "====================\n",
      "took action = 2(down) to state 11 done = False, terminated = False\n",
      "[[0.  0.  0.  0. ]\n",
      " [0.  0.  0.  0. ]\n",
      " [0.  0.  0.  1. ]\n",
      " [0.  0.  0.  0.5]]\n",
      "====================\n",
      "took action = 2(down) to state 15 done = True, terminated = False\n",
      "[[0.  0.  0.  0. ]\n",
      " [0.  0.  0.  0. ]\n",
      " [0.  0.  0.  0. ]\n",
      " [0.  0.  0.  0.5]]\n",
      "====================\n",
      "exit\n"
     ]
    }
   ],
   "source": [
    "env.render_simple(agent)"
   ]
  },
  {
   "cell_type": "markdown",
   "metadata": {},
   "source": []
  },
  {
   "cell_type": "code",
   "execution_count": 10,
   "metadata": {},
   "outputs": [
    {
     "name": "stdout",
     "output_type": "stream",
     "text": [
      "/Users/jamesnguyen/Desktop/ml_projects/rl/src\n",
      "exit\n"
     ]
    },
    {
     "ename": "SystemExit",
     "evalue": "1",
     "output_type": "error",
     "traceback": [
      "An exception has occurred, use %tb to see the full traceback.\n",
      "\u001b[0;31mSystemExit\u001b[0m\u001b[0;31m:\u001b[0m 1\n"
     ]
    },
    {
     "name": "stderr",
     "output_type": "stream",
     "text": [
      "/Users/jamesnguyen/anaconda3/envs/torch/lib/python3.11/site-packages/IPython/core/interactiveshell.py:3534: UserWarning: To exit: use 'exit', 'quit', or Ctrl-D.\n",
      "  warn(\"To exit: use 'exit', 'quit', or Ctrl-D.\", stacklevel=1)\n"
     ]
    }
   ],
   "source": [
    "env.render(agent)"
   ]
  },
  {
   "cell_type": "code",
   "execution_count": null,
   "metadata": {},
   "outputs": [],
   "source": []
  }
 ],
 "metadata": {
  "kernelspec": {
   "display_name": "Python 3.11.3 ('torch')",
   "language": "python",
   "name": "python3"
  },
  "language_info": {
   "codemirror_mode": {
    "name": "ipython",
    "version": 3
   },
   "file_extension": ".py",
   "mimetype": "text/x-python",
   "name": "python",
   "nbconvert_exporter": "python",
   "pygments_lexer": "ipython3",
   "version": "3.11.6"
  },
  "vscode": {
   "interpreter": {
    "hash": "af18273774455bc90f5456b9f4898eab7ba4de506fde0c1d0784da333c7e8bbc"
   }
  }
 },
 "nbformat": 4,
 "nbformat_minor": 2
}
