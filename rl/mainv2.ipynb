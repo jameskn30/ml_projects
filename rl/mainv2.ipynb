{
 "cells": [
  {
   "cell_type": "code",
   "execution_count": 1,
   "metadata": {},
   "outputs": [],
   "source": [
    "from src.env import GridWorldRenderer, GridWorldEnv\n",
    "from src.agent import QLearningAgent, SarsaAgent\n",
    "import matplotlib.pyplot as plt\n",
    "import seaborn as sns\n",
    "import numpy as np\n",
    "import os\n",
    "from src.utils import qtable_heatmap, agent_decision"
   ]
  },
  {
   "cell_type": "code",
   "execution_count": 6,
   "metadata": {},
   "outputs": [],
   "source": [
    "# map = [\n",
    "#     ['A', 'R', '', 'S'],\n",
    "#     ['', '', '', ''],\n",
    "#     ['B', '', 'B', 'R'],\n",
    "#     ['', '', '', 'G']\n",
    "#     ]\n",
    "\n",
    "# rows = 4 \n",
    "# cols =4 \n",
    "\n",
    "# def gen_obj():\n",
    "#     choices = ['R', 'S', 'B', '-']\n",
    "#     weights =  [0.05, 0.05, 0.05, 0.85]\n",
    "#     return np.random.choice(choices, p = weights)\n",
    "\n",
    "# map = [[gen_obj() for _ in range(rows)] for _ in range(cols)]\n",
    "# map[0][0] = 'A'\n",
    "# map[rows - 1][cols - 1] = 'G'\n",
    "\n",
    "# map = [''.join(row) for row in map]\n",
    "\n",
    "# for row in map:\n",
    "#     print(row)"
   ]
  },
  {
   "cell_type": "code",
   "execution_count": 17,
   "metadata": {},
   "outputs": [],
   "source": [
    "reward_dict = {\n",
    "    'G': 2,\n",
    "    'B': 1,\n",
    "    'R': -1,\n",
    "    'S': -1,\n",
    "    'out_of_bound': -2,\n",
    "    'visited_state': -3,\n",
    "    'terminated': -1,\n",
    "}\n",
    "map = [\n",
    "    \"A--B\",\n",
    "    \"--B-\",\n",
    "    \"--R-\",\n",
    "    \"-G--\",\n",
    "]\n",
    "env = GridWorldEnv(map = map, reward_dict = reward_dict, max_timestep = 100)"
   ]
  },
  {
   "cell_type": "code",
   "execution_count": 19,
   "metadata": {},
   "outputs": [
    {
     "name": "stderr",
     "output_type": "stream",
     "text": [
      "ep = 147, eposilon = 0.93, reached goals = 143, terminated = 0:   1%|          | 76/10000 [00:00<00:13, 735.15it/s]"
     ]
    },
    {
     "name": "stdout",
     "output_type": "stream",
     "text": [
      "====================\n",
      "SARSA TRAINING\n",
      "====================\n"
     ]
    },
    {
     "name": "stderr",
     "output_type": "stream",
     "text": [
      "ep = 5166, eposilon = 0.08, reached goals = 5151, terminated = 0:  51%|█████     | 5060/10000 [00:05<00:04, 999.37it/s] IOPub message rate exceeded.\n",
      "The notebook server will temporarily stop sending output\n",
      "to the client in order to avoid crashing it.\n",
      "To change this limit, set the config variable\n",
      "`--NotebookApp.iopub_msg_rate_limit`.\n",
      "\n",
      "Current values:\n",
      "NotebookApp.iopub_msg_rate_limit=1000.0 (msgs/sec)\n",
      "NotebookApp.rate_limit_window=3.0 (secs)\n",
      "\n",
      "ep = 9999, eposilon = 0.01, reached goals = 9984, terminated = 0: 100%|██████████| 10000/10000 [00:10<00:00, 935.50it/s]\n"
     ]
    },
    {
     "name": "stdout",
     "output_type": "stream",
     "text": [
      "[[-3.80263866 -1.80746115 -1.7768429  -3.79497191]\n",
      " [-2.5798375  -1.3766983  -1.16091978 -2.12243121]\n",
      " [-1.66152014 -1.22158614 -1.21818818 -2.25473943]\n",
      " [-1.97566313 -1.97369212 -1.97234457 -1.97614144]\n",
      " [-2.23929575 -1.11278307 -0.9828525  -2.7540952 ]\n",
      " [-2.65567846 -0.676666    0.14273485 -1.97289196]\n",
      " [-1.58782896 -1.58060624 -1.57771316 -1.59012188]\n",
      " [-1.65626729 -1.68359584 -1.63651842 -1.6568831 ]\n",
      " [-3.19469494 -0.17804516  0.21645768 -2.03436399]\n",
      " [-2.06055764 -1.20790421  1.94440403 -1.07431086]\n",
      " [-1.43123032 -1.10871532 -0.32020397 -0.69732022]\n",
      " [-1.84701109 -1.48983406 -1.38179854 -1.38203157]\n",
      " [-2.36542982  1.96809276 -1.14281991 -1.0839391 ]\n",
      " [ 0.          0.          0.          0.        ]\n",
      " [-1.66029092 -1.35422144 -0.9598052   1.79298977]\n",
      " [-1.77716644 -1.27190984 -1.30614337 -0.71493277]]\n"
     ]
    }
   ],
   "source": [
    "sarsa = SarsaAgent(env)\n",
    "sarsa.train()\n",
    "sarsa.save('sarsa_qtable.npy')\n",
    "print(sarsa.qtable)"
   ]
  },
  {
   "cell_type": "code",
   "execution_count": 16,
   "metadata": {},
   "outputs": [
    {
     "name": "stdout",
     "output_type": "stream",
     "text": [
      "A--B\n",
      "--B-\n",
      "--R-\n",
      "-G--\n"
     ]
    },
    {
     "data": {
      "text/plain": [
       "[['down', 'down', 'down', 'right'],\n",
       " ['down', 'down', 'down', 'up'],\n",
       " ['down', 'down', 'down', 'down'],\n",
       " ['right', 'up', 'left', 'left']]"
      ]
     },
     "execution_count": 16,
     "metadata": {},
     "output_type": "execute_result"
    }
   ],
   "source": [
    "# qtable_heatmap(agent.qtable)\n",
    "for row in map:\n",
    "    print(row)\n",
    "agent_decision(sarsa.qtable)"
   ]
  },
  {
   "cell_type": "markdown",
   "metadata": {},
   "source": [
    "# Q learning"
   ]
  },
  {
   "cell_type": "code",
   "execution_count": null,
   "metadata": {},
   "outputs": [],
   "source": [
    "agent = QLearningAgent(env)\n",
    "agent.train()\n",
    "agent.save()\n",
    "# agent.load('./qtable.npy')\n",
    "print(agent.qtable)"
   ]
  },
  {
   "cell_type": "code",
   "execution_count": 18,
   "metadata": {},
   "outputs": [
    {
     "name": "stdout",
     "output_type": "stream",
     "text": [
      "====================\n",
      "ENV MAP\n",
      "====================\n",
      "['A', '-', '-', 'B']\n",
      "['-', '-', 'B', '-']\n",
      "['-', '-', 'R', '-']\n",
      "['-', 'G', '-', '-']\n",
      "====================\n",
      "ENV STATE\n",
      "====================\n",
      "[[1.  0.  0.  0. ]\n",
      " [0.  0.  0.  0. ]\n",
      " [0.  0.  0.  0. ]\n",
      " [0.  0.  0.  0.5]]\n",
      "====================\n",
      "ENV DESCRIPTION\n",
      "====================\n",
      "reward dict = {'G': 2, 'B': 1, 'R': -1, 'S': -1, 'out_of_bound': -2, 'visited_state': -3, 'terminated': -1}\n",
      "timestep = 0, max_timestep = 100,\n",
      "obs space = 16\n",
      "actions = 4\n",
      "agent position = [0, 0]\n",
      "goal position = [3, 3]\n",
      "terminated = False\n",
      "\n"
     ]
    }
   ],
   "source": [
    "env.reset()\n",
    "print(env)"
   ]
  },
  {
   "cell_type": "code",
   "execution_count": 8,
   "metadata": {},
   "outputs": [
    {
     "name": "stdout",
     "output_type": "stream",
     "text": [
      "[[0.  0.  0.  0. ]\n",
      " [0.  0.  0.  0. ]\n",
      " [0.  0.  0.  0. ]\n",
      " [0.  0.  0.  0.5]]\n",
      "['A', '-', '-', 'B']\n",
      "['-', '-', '-', '-']\n",
      "['R', '-', '-', '-']\n",
      "['-', '-', '-', 'G']\n",
      "(15, 10, True, False, {})\n"
     ]
    }
   ],
   "source": [
    "#Test the enviroment rewards and stuff\n",
    "info = env.step(1)\n",
    "print(env.state)\n",
    "for row in env.map:\n",
    "    print(row)\n",
    "print(info)"
   ]
  },
  {
   "cell_type": "code",
   "execution_count": 9,
   "metadata": {},
   "outputs": [
    {
     "name": "stdout",
     "output_type": "stream",
     "text": [
      "====================\n",
      "MAP\n",
      "['A', '-', '-', 'B']\n",
      "['-', '-', 'B', '-']\n",
      "['R', '-', '-', '-']\n",
      "['-', 'G', '-', '-']\n",
      "====================\n",
      "[[1.  0.  0.  0. ]\n",
      " [0.  0.  0.  0. ]\n",
      " [0.  0.  0.  0. ]\n",
      " [0.  0.  0.  0.5]]\n",
      "took action = 2(down) to state 4 done = False, terminated = False\n",
      "[[0.  0.  0.  0. ]\n",
      " [1.  0.  0.  0. ]\n",
      " [0.  0.  0.  0. ]\n",
      " [0.  0.  0.  0.5]]\n",
      "====================\n",
      "took action = 1(right) to state 5 done = False, terminated = False\n",
      "[[0.  0.  0.  0. ]\n",
      " [0.  1.  0.  0. ]\n",
      " [0.  0.  0.  0. ]\n",
      " [0.  0.  0.  0.5]]\n",
      "====================\n",
      "took action = 1(right) to state 6 done = False, terminated = False\n",
      "[[0.  0.  0.  0. ]\n",
      " [0.  0.  1.  0. ]\n",
      " [0.  0.  0.  0. ]\n",
      " [0.  0.  0.  0.5]]\n",
      "====================\n",
      "took action = 2(down) to state 10 done = False, terminated = False\n",
      "[[0.  0.  0.  0. ]\n",
      " [0.  0.  0.  0. ]\n",
      " [0.  0.  1.  0. ]\n",
      " [0.  0.  0.  0.5]]\n",
      "====================\n",
      "took action = 2(down) to state 14 done = False, terminated = False\n",
      "[[0.  0.  0.  0. ]\n",
      " [0.  0.  0.  0. ]\n",
      " [0.  0.  0.  0. ]\n",
      " [0.  0.  1.  0.5]]\n",
      "====================\n",
      "took action = 3(left) to state 13 done = True, terminated = False\n",
      "[[0.  0.  0.  0. ]\n",
      " [0.  0.  0.  0. ]\n",
      " [0.  0.  0.  0. ]\n",
      " [0.  1.  0.  0.5]]\n",
      "====================\n",
      "exit\n"
     ]
    }
   ],
   "source": [
    "env.render_simple(sarsa)"
   ]
  },
  {
   "cell_type": "markdown",
   "metadata": {},
   "source": []
  },
  {
   "cell_type": "code",
   "execution_count": 10,
   "metadata": {},
   "outputs": [
    {
     "name": "stdout",
     "output_type": "stream",
     "text": [
      "/Users/jamesnguyen/Desktop/ml_projects/rl/src\n",
      "exit\n"
     ]
    },
    {
     "ename": "SystemExit",
     "evalue": "1",
     "output_type": "error",
     "traceback": [
      "An exception has occurred, use %tb to see the full traceback.\n",
      "\u001b[0;31mSystemExit\u001b[0m\u001b[0;31m:\u001b[0m 1\n"
     ]
    },
    {
     "name": "stderr",
     "output_type": "stream",
     "text": [
      "/Users/jamesnguyen/anaconda3/envs/torch/lib/python3.11/site-packages/IPython/core/interactiveshell.py:3534: UserWarning: To exit: use 'exit', 'quit', or Ctrl-D.\n",
      "  warn(\"To exit: use 'exit', 'quit', or Ctrl-D.\", stacklevel=1)\n"
     ]
    }
   ],
   "source": [
    "env.render(agent)"
   ]
  },
  {
   "cell_type": "code",
   "execution_count": null,
   "metadata": {},
   "outputs": [],
   "source": []
  }
 ],
 "metadata": {
  "kernelspec": {
   "display_name": "Python 3.11.3 ('torch')",
   "language": "python",
   "name": "python3"
  },
  "language_info": {
   "codemirror_mode": {
    "name": "ipython",
    "version": 3
   },
   "file_extension": ".py",
   "mimetype": "text/x-python",
   "name": "python",
   "nbconvert_exporter": "python",
   "pygments_lexer": "ipython3",
   "version": "3.11.6"
  },
  "vscode": {
   "interpreter": {
    "hash": "af18273774455bc90f5456b9f4898eab7ba4de506fde0c1d0784da333c7e8bbc"
   }
  }
 },
 "nbformat": 4,
 "nbformat_minor": 2
}
