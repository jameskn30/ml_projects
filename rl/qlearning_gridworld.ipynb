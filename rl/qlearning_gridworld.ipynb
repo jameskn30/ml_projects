{
 "cells": [
  {
   "cell_type": "code",
   "execution_count": 1,
   "metadata": {},
   "outputs": [
    {
     "name": "stdout",
     "output_type": "stream",
     "text": [
      "pygame 2.1.3 (SDL 2.28.4, Python 3.9.16)\n",
      "Hello from the pygame community. https://www.pygame.org/contribute.html\n"
     ]
    }
   ],
   "source": [
    "import gym\n",
    "import pygame\n",
    "import sys"
   ]
  },
  {
   "cell_type": "code",
   "execution_count": 2,
   "metadata": {},
   "outputs": [
    {
     "name": "stdout",
     "output_type": "stream",
     "text": [
      "exit\n"
     ]
    },
    {
     "ename": "SystemExit",
     "evalue": "",
     "output_type": "error",
     "traceback": [
      "An exception has occurred, use %tb to see the full traceback.\n",
      "\u001b[1;31mSystemExit\u001b[0m\n"
     ]
    },
    {
     "name": "stderr",
     "output_type": "stream",
     "text": [
      "c:\\Users\\nguye\\anaconda3\\envs\\torch\\lib\\site-packages\\IPython\\core\\interactiveshell.py:3513: UserWarning: To exit: use 'exit', 'quit', or Ctrl-D.\n",
      "  warn(\"To exit: use 'exit', 'quit', or Ctrl-D.\", stacklevel=1)\n"
     ]
    }
   ],
   "source": [
    "\n",
    "colors = {\n",
    "    \"black\": (0,0,0),\n",
    "    \"white\": (255,255,255),\n",
    "    \"light_white\": (200,200,200),\n",
    "    \"blue\": (0,0,255),\n",
    "    \"green\": (51, 204, 51),\n",
    "}\n",
    "class GridWorldRenderer():\n",
    "    def __init__(self, rows, columns, cell_size = 50):\n",
    "        self.rows = rows \n",
    "        self.columns = columns\n",
    "        self.cell_size = cell_size\n",
    "\n",
    "        pygame.init()\n",
    "        self.test = False \n",
    "        self.test_image = False \n",
    "\n",
    "        self._window_width = self.columns * self.cell_size\n",
    "        self._window_height = self.rows * self.cell_size\n",
    "\n",
    "        self.screen = pygame.display.set_mode((self._window_width, self._window_height))\n",
    "        pygame.display.set_caption(f\"Grid World {self.rows}x{self.columns}\" )\n",
    "        self.clock = pygame.time.Clock()\n",
    "\n",
    "        self.border_color = colors['black']\n",
    "\n",
    "        self.run()\n",
    "\n",
    "    def _drawgrid(self):\n",
    "        for i, x in enumerate(range(0, self._window_width, self.cell_size)):\n",
    "            for j, y in enumerate(range(0, self._window_height, self.cell_size)):\n",
    "                color = colors['white']\n",
    "                # if self.test:\n",
    "                #     if x == 0 and y == 0:\n",
    "                #         # color = colors['blue']\n",
    "\n",
    "                rect = pygame.Rect(x,y, self.cell_size, self.cell_size)\n",
    "\n",
    "                pygame.draw.rect(self.screen, color, rect)\n",
    "                if self.test_image and i == 0 and j == 0 :\n",
    "                    self.draw_robot(self.screen, x,y)\n",
    "                if i == 1 and j == 0 :\n",
    "                    self.draw_battery(self.screen, x,y)\n",
    "                if i == 0 and j == 1 :\n",
    "                    self.draw_crap(self.screen, x,y)\n",
    "\n",
    "                border = pygame.Rect(x,y, self.cell_size, self.cell_size)\n",
    "                pygame.draw.rect(self.screen, self.border_color, border, 1)\n",
    "                \n",
    "    def toggle(self):\n",
    "        self.test = not self.test\n",
    "    \n",
    "    def _draw_object(self, screen, img, x,y):\n",
    "        img = pygame.image.load(img)\n",
    "        img = pygame.transform.scale(img, (self.cell_size, self.cell_size))\n",
    "        screen.blit(img, (x,y))\n",
    "        border = pygame.Rect(x,y, self.cell_size, self.cell_size)\n",
    "        pygame.draw.rect(self.screen, self.border_color, border, 1)\n",
    "\n",
    "    def draw_robot(self, screen, x, y):\n",
    "        robot_img = './assets/robot.jpg'\n",
    "        self._draw_object(screen, robot_img, x, y)\n",
    "\n",
    "    def draw_crap(self, screen, x, y):\n",
    "        img = './assets/crap.png'\n",
    "        self._draw_object(screen, img, x, y)\n",
    "\n",
    "    def draw_battery(self, screen, x, y):\n",
    "        img = './assets/battery.png'\n",
    "        self._draw_object(screen, img, x, y)\n",
    "\n",
    "    \n",
    "    def run(self):\n",
    "        while True:\n",
    "            for event in pygame.event.get():\n",
    "                if event.type == pygame.QUIT:\n",
    "                    print('exit')\n",
    "                    pygame.quit()\n",
    "                    sys.exit()\n",
    "                \n",
    "                if event.type == pygame.KEYDOWN:\n",
    "                    self.test_image = not self.test_image\n",
    "\n",
    "                self._drawgrid()\n",
    "                pygame.display.update()\n",
    "\n",
    "gridworld = GridWorldRenderer(8,8)\n"
   ]
  },
  {
   "cell_type": "code",
   "execution_count": null,
   "metadata": {},
   "outputs": [
    {
     "name": "stdout",
     "output_type": "stream",
     "text": [
      "0 0\n",
      "1 1\n",
      "2 2\n",
      "3 3\n",
      "4 4\n",
      "5 5\n",
      "6 6\n",
      "7 7\n",
      "8 8\n",
      "9 9\n"
     ]
    }
   ],
   "source": [
    "for i,x in enumerate(range(10)):\n",
    "    print(i, x)"
   ]
  },
  {
   "cell_type": "code",
   "execution_count": null,
   "metadata": {},
   "outputs": [
    {
     "ename": "KeyboardInterrupt",
     "evalue": "",
     "output_type": "error",
     "traceback": [
      "\u001b[1;31m---------------------------------------------------------------------------\u001b[0m",
      "\u001b[1;31mKeyboardInterrupt\u001b[0m                         Traceback (most recent call last)",
      "\u001b[1;32me:\\ML\\ml_projects\\rl\\qlearning_gridworld.ipynb Cell 3\u001b[0m line \u001b[0;36m2\n\u001b[0;32m      <a href='vscode-notebook-cell:/e%3A/ML/ml_projects/rl/qlearning_gridworld.ipynb#W6sZmlsZQ%3D%3D?line=0'>1</a>\u001b[0m \u001b[39mwhile\u001b[39;00m \u001b[39mTrue\u001b[39;00m:\n\u001b[1;32m----> <a href='vscode-notebook-cell:/e%3A/ML/ml_projects/rl/qlearning_gridworld.ipynb#W6sZmlsZQ%3D%3D?line=1'>2</a>\u001b[0m     gridworld\u001b[39m.\u001b[39;49mrender()\n",
      "\u001b[1;32me:\\ML\\ml_projects\\rl\\qlearning_gridworld.ipynb Cell 3\u001b[0m line \u001b[0;36m5\n\u001b[0;32m     <a href='vscode-notebook-cell:/e%3A/ML/ml_projects/rl/qlearning_gridworld.ipynb#W6sZmlsZQ%3D%3D?line=48'>49</a>\u001b[0m \u001b[39mdef\u001b[39;00m \u001b[39mrender\u001b[39m(\u001b[39mself\u001b[39m):\n\u001b[0;32m     <a href='vscode-notebook-cell:/e%3A/ML/ml_projects/rl/qlearning_gridworld.ipynb#W6sZmlsZQ%3D%3D?line=49'>50</a>\u001b[0m     \u001b[39mself\u001b[39m\u001b[39m.\u001b[39m_drawgrid()\n\u001b[1;32m---> <a href='vscode-notebook-cell:/e%3A/ML/ml_projects/rl/qlearning_gridworld.ipynb#W6sZmlsZQ%3D%3D?line=50'>51</a>\u001b[0m     pygame\u001b[39m.\u001b[39;49mdisplay\u001b[39m.\u001b[39;49mupdate()\n",
      "\u001b[1;31mKeyboardInterrupt\u001b[0m: "
     ]
    }
   ],
   "source": [
    "while True:\n",
    "    gridworld.render()"
   ]
  },
  {
   "cell_type": "code",
   "execution_count": null,
   "metadata": {},
   "outputs": [],
   "source": []
  }
 ],
 "metadata": {
  "kernelspec": {
   "display_name": "torch",
   "language": "python",
   "name": "python3"
  },
  "language_info": {
   "codemirror_mode": {
    "name": "ipython",
    "version": 3
   },
   "file_extension": ".py",
   "mimetype": "text/x-python",
   "name": "python",
   "nbconvert_exporter": "python",
   "pygments_lexer": "ipython3",
   "version": "3.9.16"
  }
 },
 "nbformat": 4,
 "nbformat_minor": 2
}
