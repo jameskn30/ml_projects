{
 "cells": [
  {
   "cell_type": "code",
   "execution_count": 1,
   "metadata": {},
   "outputs": [],
   "source": [
    "from src.env import GridWorldRenderer, GridWorldEnv, GET_RANDOM_MAP\n",
    "from src.agent import QLearningAgent, SarsaAgent\n",
    "import matplotlib.pyplot as plt\n",
    "import seaborn as sns\n",
    "import numpy as np\n",
    "import os\n",
    "from src.utils import qtable_heatmap, agent_decision"
   ]
  },
  {
   "cell_type": "code",
   "execution_count": 2,
   "metadata": {},
   "outputs": [],
   "source": [
    "# map = [\n",
    "#     ['A', 'R', '', 'S'],\n",
    "#     ['', '', '', ''],\n",
    "#     ['B', '', 'B', 'R'],\n",
    "#     ['', '', '', 'G']\n",
    "#     ]\n",
    "\n",
    "# rows = 4 \n",
    "# cols =4 \n",
    "\n",
    "# def gen_obj():\n",
    "#     choices = ['R', 'S', 'B', '-']\n",
    "#     weights =  [0.05, 0.05, 0.05, 0.85]\n",
    "#     return np.random.choice(choices, p = weights)\n",
    "\n",
    "# map = [[gen_obj() for _ in range(rows)] for _ in range(cols)]\n",
    "# map[0][0] = 'A'\n",
    "# map[rows - 1][cols - 1] = 'G'\n",
    "\n",
    "# map = [''.join(row) for row in map]\n",
    "\n",
    "# for row in map:\n",
    "#     print(row)"
   ]
  },
  {
   "cell_type": "code",
   "execution_count": 3,
   "metadata": {},
   "outputs": [
    {
     "name": "stdout",
     "output_type": "stream",
     "text": [
      "A---------S---------\n",
      "-S--B-S-------------\n",
      "--------------------\n",
      "-BB---B-------S-----\n",
      "-----S----R---R-R-B-\n",
      "--------------------\n",
      "----B-RB----R-------\n",
      "----B-S--BBB----R---\n",
      "----B------B-R--SR-R\n",
      "--------B-------S---\n",
      "----B-R-------------\n",
      "--S-S------B--R-R---\n",
      "--------------------\n",
      "-R---RS-B----------R\n",
      "-S------------------\n",
      "---BB-----------B---\n",
      "RR-B---------B-B----\n",
      "-S-R----R--S----B---\n",
      "----------R------SS-\n",
      "-B-B-----R-----S--BG\n"
     ]
    }
   ],
   "source": [
    "reward_dict = {\n",
    "    'G': 3,\n",
    "    'B': 1,\n",
    "    'R': -1,\n",
    "    'S': -1,\n",
    "    'out_of_bound': -1,\n",
    "    'visited_state': -1,\n",
    "    'terminated': -1,\n",
    "}\n",
    "map = [\n",
    "    \"A--B\",\n",
    "    \"----\",\n",
    "    \"B---\",\n",
    "    \"---G\",\n",
    "]\n",
    "map = GET_RANDOM_MAP(20,20)\n",
    "#print map\n",
    "for row in map:\n",
    "    print(row)\n",
    "env = GridWorldEnv(map = map, reward_dict = reward_dict, max_timestep = 100)"
   ]
  },
  {
   "cell_type": "markdown",
   "metadata": {},
   "source": [
    "# Q learning"
   ]
  },
  {
   "cell_type": "code",
   "execution_count": 4,
   "metadata": {},
   "outputs": [
    {
     "name": "stderr",
     "output_type": "stream",
     "text": [
      "ep = 47, eposilon = 0.98, reached goals = 0, terminated = 0:   0%|          | 32/10000 [00:00<00:31, 319.75it/s]"
     ]
    },
    {
     "name": "stdout",
     "output_type": "stream",
     "text": [
      "====================\n",
      "QLEARNING TRAINING\n",
      "====================\n"
     ]
    },
    {
     "name": "stderr",
     "output_type": "stream",
     "text": [
      "ep = 9999, eposilon = 0.01, reached goals = 2291, terminated = 0: 100%|██████████| 10000/10000 [00:22<00:00, 449.61it/s]\n"
     ]
    },
    {
     "name": "stdout",
     "output_type": "stream",
     "text": [
      "[[-1.21450365 -0.56749061  0.02514333 -1.22077751]\n",
      " [-1.05043354 -0.52960973 -0.82786263 -0.51598876]\n",
      " [-0.84485525 -0.40387199 -0.40223104 -0.91237065]\n",
      " ...\n",
      " [-0.26181874  1.4841019  -0.0886721  -0.1736285 ]\n",
      " [-0.19878882  2.11838526  0.0436909  -0.0452697 ]\n",
      " [ 0.          0.          0.          0.        ]]\n"
     ]
    }
   ],
   "source": [
    "agent = QLearningAgent(env)\n",
    "agent.train()\n",
    "agent.save()\n",
    "# agent.load('./qtable.npy')\n",
    "print(agent.qtable)"
   ]
  },
  {
   "cell_type": "code",
   "execution_count": 5,
   "metadata": {},
   "outputs": [
    {
     "name": "stdout",
     "output_type": "stream",
     "text": [
      "====================\n",
      "ENV MAP\n",
      "====================\n",
      "['A', '-', '-', '-', '-', '-', '-', '-', '-', '-', 'S', '-', '-', '-', '-', '-', '-', '-', '-', '-']\n",
      "['-', 'S', '-', '-', 'B', '-', 'S', '-', '-', '-', '-', '-', '-', '-', '-', '-', '-', '-', '-', '-']\n",
      "['-', '-', '-', '-', '-', '-', '-', '-', '-', '-', '-', '-', '-', '-', '-', '-', '-', '-', '-', '-']\n",
      "['-', 'B', 'B', '-', '-', '-', 'B', '-', '-', '-', '-', '-', '-', '-', 'S', '-', '-', '-', '-', '-']\n",
      "['-', '-', '-', '-', '-', 'S', '-', '-', '-', '-', 'R', '-', '-', '-', 'R', '-', 'R', '-', 'B', '-']\n",
      "['-', '-', '-', '-', '-', '-', '-', '-', '-', '-', '-', '-', '-', '-', '-', '-', '-', '-', '-', '-']\n",
      "['-', '-', '-', '-', 'B', '-', 'R', 'B', '-', '-', '-', '-', 'R', '-', '-', '-', '-', '-', '-', '-']\n",
      "['-', '-', '-', '-', 'B', '-', 'S', '-', '-', 'B', 'B', 'B', '-', '-', '-', '-', 'R', '-', '-', '-']\n",
      "['-', '-', '-', '-', 'B', '-', '-', '-', '-', '-', '-', 'B', '-', 'R', '-', '-', 'S', 'R', '-', 'R']\n",
      "['-', '-', '-', '-', '-', '-', '-', '-', 'B', '-', '-', '-', '-', '-', '-', '-', 'S', '-', '-', '-']\n",
      "['-', '-', '-', '-', 'B', '-', 'R', '-', '-', '-', '-', '-', '-', '-', '-', '-', '-', '-', '-', '-']\n",
      "['-', '-', 'S', '-', 'S', '-', '-', '-', '-', '-', '-', 'B', '-', '-', 'R', '-', 'R', '-', '-', '-']\n",
      "['-', '-', '-', '-', '-', '-', '-', '-', '-', '-', '-', '-', '-', '-', '-', '-', '-', '-', '-', '-']\n",
      "['-', 'R', '-', '-', '-', 'R', 'S', '-', 'B', '-', '-', '-', '-', '-', '-', '-', '-', '-', '-', 'R']\n",
      "['-', 'S', '-', '-', '-', '-', '-', '-', '-', '-', '-', '-', '-', '-', '-', '-', '-', '-', '-', '-']\n",
      "['-', '-', '-', 'B', 'B', '-', '-', '-', '-', '-', '-', '-', '-', '-', '-', '-', 'B', '-', '-', '-']\n",
      "['R', 'R', '-', 'B', '-', '-', '-', '-', '-', '-', '-', '-', '-', 'B', '-', 'B', '-', '-', '-', '-']\n",
      "['-', 'S', '-', 'R', '-', '-', '-', '-', 'R', '-', '-', 'S', '-', '-', '-', '-', 'B', '-', '-', '-']\n",
      "['-', '-', '-', '-', '-', '-', '-', '-', '-', '-', 'R', '-', '-', '-', '-', '-', '-', 'S', 'S', '-']\n",
      "['-', 'B', '-', 'B', '-', '-', '-', '-', '-', 'R', '-', '-', '-', '-', '-', 'S', '-', '-', 'B', 'G']\n",
      "====================\n",
      "ENV STATE\n",
      "====================\n",
      "[[1.  0.  0.  0.  0.  0.  0.  0.  0.  0.  0.  0.  0.  0.  0.  0.  0.  0.\n",
      "  0.  0. ]\n",
      " [0.  0.  0.  0.  0.  0.  0.  0.  0.  0.  0.  0.  0.  0.  0.  0.  0.  0.\n",
      "  0.  0. ]\n",
      " [0.  0.  0.  0.  0.  0.  0.  0.  0.  0.  0.  0.  0.  0.  0.  0.  0.  0.\n",
      "  0.  0. ]\n",
      " [0.  0.  0.  0.  0.  0.  0.  0.  0.  0.  0.  0.  0.  0.  0.  0.  0.  0.\n",
      "  0.  0. ]\n",
      " [0.  0.  0.  0.  0.  0.  0.  0.  0.  0.  0.  0.  0.  0.  0.  0.  0.  0.\n",
      "  0.  0. ]\n",
      " [0.  0.  0.  0.  0.  0.  0.  0.  0.  0.  0.  0.  0.  0.  0.  0.  0.  0.\n",
      "  0.  0. ]\n",
      " [0.  0.  0.  0.  0.  0.  0.  0.  0.  0.  0.  0.  0.  0.  0.  0.  0.  0.\n",
      "  0.  0. ]\n",
      " [0.  0.  0.  0.  0.  0.  0.  0.  0.  0.  0.  0.  0.  0.  0.  0.  0.  0.\n",
      "  0.  0. ]\n",
      " [0.  0.  0.  0.  0.  0.  0.  0.  0.  0.  0.  0.  0.  0.  0.  0.  0.  0.\n",
      "  0.  0. ]\n",
      " [0.  0.  0.  0.  0.  0.  0.  0.  0.  0.  0.  0.  0.  0.  0.  0.  0.  0.\n",
      "  0.  0. ]\n",
      " [0.  0.  0.  0.  0.  0.  0.  0.  0.  0.  0.  0.  0.  0.  0.  0.  0.  0.\n",
      "  0.  0. ]\n",
      " [0.  0.  0.  0.  0.  0.  0.  0.  0.  0.  0.  0.  0.  0.  0.  0.  0.  0.\n",
      "  0.  0. ]\n",
      " [0.  0.  0.  0.  0.  0.  0.  0.  0.  0.  0.  0.  0.  0.  0.  0.  0.  0.\n",
      "  0.  0. ]\n",
      " [0.  0.  0.  0.  0.  0.  0.  0.  0.  0.  0.  0.  0.  0.  0.  0.  0.  0.\n",
      "  0.  0. ]\n",
      " [0.  0.  0.  0.  0.  0.  0.  0.  0.  0.  0.  0.  0.  0.  0.  0.  0.  0.\n",
      "  0.  0. ]\n",
      " [0.  0.  0.  0.  0.  0.  0.  0.  0.  0.  0.  0.  0.  0.  0.  0.  0.  0.\n",
      "  0.  0. ]\n",
      " [0.  0.  0.  0.  0.  0.  0.  0.  0.  0.  0.  0.  0.  0.  0.  0.  0.  0.\n",
      "  0.  0. ]\n",
      " [0.  0.  0.  0.  0.  0.  0.  0.  0.  0.  0.  0.  0.  0.  0.  0.  0.  0.\n",
      "  0.  0. ]\n",
      " [0.  0.  0.  0.  0.  0.  0.  0.  0.  0.  0.  0.  0.  0.  0.  0.  0.  0.\n",
      "  0.  0. ]\n",
      " [0.  0.  0.  0.  0.  0.  0.  0.  0.  0.  0.  0.  0.  0.  0.  0.  0.  0.\n",
      "  0.  0.5]]\n",
      "====================\n",
      "ENV DESCRIPTION\n",
      "====================\n",
      "reward dict = {'G': 3, 'B': 1, 'R': -1, 'S': -1, 'out_of_bound': -1, 'visited_state': -1, 'terminated': -1}\n",
      "timestep = 0, max_timestep = 100,\n",
      "obs space = 400\n",
      "actions = 4\n",
      "agent position = [0, 0]\n",
      "goal position = [19, 19]\n",
      "terminated = False\n",
      "\n"
     ]
    }
   ],
   "source": [
    "env.reset()\n",
    "print(env)"
   ]
  },
  {
   "cell_type": "code",
   "execution_count": 6,
   "metadata": {},
   "outputs": [],
   "source": [
    "#Test the enviroment rewards and stuff\n",
    "# info = env.step(2)\n",
    "# print(env.state)\n",
    "# for row in env.map:\n",
    "#     print(row)\n",
    "# print(info)"
   ]
  },
  {
   "cell_type": "code",
   "execution_count": 7,
   "metadata": {},
   "outputs": [],
   "source": [
    "# env.render_simple(agent)"
   ]
  },
  {
   "cell_type": "markdown",
   "metadata": {},
   "source": []
  },
  {
   "cell_type": "code",
   "execution_count": 8,
   "metadata": {},
   "outputs": [
    {
     "name": "stdout",
     "output_type": "stream",
     "text": [
      "/Users/jamesnguyen/Desktop/ml_projects/rl/src\n",
      "exit\n",
      "Terminated\n"
     ]
    },
    {
     "ename": "",
     "evalue": "",
     "output_type": "error",
     "traceback": [
      "\u001b[1;31mThe Kernel crashed while executing code in the the current cell or a previous cell. Please review the code in the cell(s) to identify a possible cause of the failure. Click <a href='https://aka.ms/vscodeJupyterKernelCrash'>here</a> for more info. View Jupyter <a href='command:jupyter.viewOutput'>log</a> for further details."
     ]
    }
   ],
   "source": [
    "env.render(agent)"
   ]
  },
  {
   "cell_type": "code",
   "execution_count": null,
   "metadata": {},
   "outputs": [],
   "source": []
  }
 ],
 "metadata": {
  "kernelspec": {
   "display_name": "Python 3.11.3 ('torch')",
   "language": "python",
   "name": "python3"
  },
  "language_info": {
   "codemirror_mode": {
    "name": "ipython",
    "version": 3
   },
   "file_extension": ".py",
   "mimetype": "text/x-python",
   "name": "python",
   "nbconvert_exporter": "python",
   "pygments_lexer": "ipython3",
   "version": "3.11.6"
  },
  "vscode": {
   "interpreter": {
    "hash": "af18273774455bc90f5456b9f4898eab7ba4de506fde0c1d0784da333c7e8bbc"
   }
  }
 },
 "nbformat": 4,
 "nbformat_minor": 2
}
