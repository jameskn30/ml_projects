{
 "cells": [
  {
   "cell_type": "code",
   "execution_count": 1,
   "metadata": {},
   "outputs": [],
   "source": [
    "from src.env import GridWorldRenderer, GridWorldEnv\n",
    "from src.agent import QLearningAgent, SarsaAgent\n",
    "import matplotlib.pyplot as plt\n",
    "import seaborn as sns\n",
    "import numpy as np\n",
    "import os\n",
    "from src.utils import qtable_heatmap, agent_decision"
   ]
  },
  {
   "cell_type": "code",
   "execution_count": 2,
   "metadata": {},
   "outputs": [],
   "source": [
    "# map = [\n",
    "#     ['A', 'R', '', 'S'],\n",
    "#     ['', '', '', ''],\n",
    "#     ['B', '', 'B', 'R'],\n",
    "#     ['', '', '', 'G']\n",
    "#     ]\n",
    "\n",
    "# rows = 4 \n",
    "# cols =4 \n",
    "\n",
    "# def gen_obj():\n",
    "#     choices = ['R', 'S', 'B', '-']\n",
    "#     weights =  [0.05, 0.05, 0.05, 0.85]\n",
    "#     return np.random.choice(choices, p = weights)\n",
    "\n",
    "# map = [[gen_obj() for _ in range(rows)] for _ in range(cols)]\n",
    "# map[0][0] = 'A'\n",
    "# map[rows - 1][cols - 1] = 'G'\n",
    "\n",
    "# map = [''.join(row) for row in map]\n",
    "\n",
    "# for row in map:\n",
    "#     print(row)"
   ]
  },
  {
   "cell_type": "code",
   "execution_count": 2,
   "metadata": {},
   "outputs": [],
   "source": [
    "reward_dict = {\n",
    "    'G': 3,\n",
    "    'B': 1,\n",
    "    'R': -1,\n",
    "    'S': -1,\n",
    "    'out_of_bound': -1,\n",
    "    'visited_state': -1,\n",
    "    'terminated': -1,\n",
    "}\n",
    "map = [\n",
    "    \"A--B\",\n",
    "    \"----\",\n",
    "    \"B---\",\n",
    "    \"---G\",\n",
    "]\n",
    "env = GridWorldEnv(map = map, reward_dict = reward_dict, max_timestep = 100)"
   ]
  },
  {
   "cell_type": "code",
   "execution_count": 36,
   "metadata": {},
   "outputs": [
    {
     "name": "stderr",
     "output_type": "stream",
     "text": [
      "ep = 148, eposilon = 0.93, reached goals = 134, terminated = 0:   1%|          | 75/10000 [00:00<00:13, 737.63it/s]"
     ]
    },
    {
     "name": "stdout",
     "output_type": "stream",
     "text": [
      "====================\n",
      "SARSA TRAINING\n",
      "====================\n"
     ]
    },
    {
     "name": "stderr",
     "output_type": "stream",
     "text": [
      "ep = 8179, eposilon = 0.02, reached goals = 8106, terminated = 0:  81%|████████  | 8124/10000 [00:09<00:01, 1386.19it/s]IOPub message rate exceeded.\n",
      "The notebook server will temporarily stop sending output\n",
      "to the client in order to avoid crashing it.\n",
      "To change this limit, set the config variable\n",
      "`--NotebookApp.iopub_msg_rate_limit`.\n",
      "\n",
      "Current values:\n",
      "NotebookApp.iopub_msg_rate_limit=1000.0 (msgs/sec)\n",
      "NotebookApp.rate_limit_window=3.0 (secs)\n",
      "\n",
      "ep = 9999, eposilon = 0.01, reached goals = 9925, terminated = 0: 100%|██████████| 10000/10000 [00:11<00:00, 889.57it/s]"
     ]
    },
    {
     "name": "stdout",
     "output_type": "stream",
     "text": [
      "[[-1.42014425 -0.46245278  0.14164702 -1.40493254]\n",
      " [-1.05856176 -0.23099248 -0.52402953 -0.59691081]\n",
      " [-0.79399291  0.74537391 -0.83694308 -1.20919718]\n",
      " [-1.72403169 -1.71541529 -0.87816614 -0.87920329]\n",
      " [-0.62789093 -0.41550981  0.90560567 -0.80798767]\n",
      " [-0.57965451 -0.50216754 -0.19600559 -0.52920245]\n",
      " [-0.5633655  -0.57262658 -0.56176709 -0.58996736]\n",
      " [-0.66059498 -0.89568292 -0.65680934 -0.72811388]\n",
      " [-0.73758914 -0.09995604  1.99532199 -0.16082498]\n",
      " [-0.69713244 -0.53534382  0.60003309  0.14670489]\n",
      " [-0.62467674 -0.55367622 -0.4199474  -0.3847657 ]\n",
      " [-0.66406763 -0.73156851 -0.59060782 -0.58946903]\n",
      " [ 0.          0.          0.          0.        ]\n",
      " [-0.58434254 -0.47074651 -0.27738046  1.95836396]\n",
      " [-0.61129755 -0.59957731 -0.69124899  0.31085257]\n",
      " [-0.64496672 -0.69733848 -0.6965625  -0.52765188]]\n"
     ]
    },
    {
     "name": "stderr",
     "output_type": "stream",
     "text": [
      "\n"
     ]
    }
   ],
   "source": [
    "sarsa = SarsaAgent(env)\n",
    "sarsa.train()\n",
    "sarsa.save('sarsa_qtable.npy')\n",
    "print(sarsa.qtable)"
   ]
  },
  {
   "cell_type": "code",
   "execution_count": 37,
   "metadata": {},
   "outputs": [
    {
     "name": "stdout",
     "output_type": "stream",
     "text": [
      "A--B\n",
      "----\n",
      "----\n",
      "G---\n"
     ]
    },
    {
     "data": {
      "text/plain": [
       "[['down', 'right', 'right', 'down'],\n",
       " ['down', 'down', 'down', 'down'],\n",
       " ['down', 'down', 'left', 'left'],\n",
       " ['up', 'left', 'left', 'left']]"
      ]
     },
     "execution_count": 37,
     "metadata": {},
     "output_type": "execute_result"
    }
   ],
   "source": [
    "# qtable_heatmap(agent.qtable)\n",
    "for row in map:\n",
    "    print(row)\n",
    "agent_decision(sarsa.qtable)"
   ]
  }
 ],
 "metadata": {
  "kernelspec": {
   "display_name": "Python 3.11.3 ('torch')",
   "language": "python",
   "name": "python3"
  },
  "language_info": {
   "codemirror_mode": {
    "name": "ipython",
    "version": 3
   },
   "file_extension": ".py",
   "mimetype": "text/x-python",
   "name": "python",
   "nbconvert_exporter": "python",
   "pygments_lexer": "ipython3",
   "version": "3.11.3"
  },
  "vscode": {
   "interpreter": {
    "hash": "af18273774455bc90f5456b9f4898eab7ba4de506fde0c1d0784da333c7e8bbc"
   }
  }
 },
 "nbformat": 4,
 "nbformat_minor": 2
}
